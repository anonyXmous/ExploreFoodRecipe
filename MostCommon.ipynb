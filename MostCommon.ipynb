{
 "cells": [
  {
   "cell_type": "code",
   "execution_count": 1,
   "metadata": {
    "collapsed": true
   },
   "outputs": [],
   "source": [
    "import pandas as pd\n",
    "import nltk\n"
   ]
  },
  {
   "cell_type": "code",
   "execution_count": 3,
   "metadata": {
    "collapsed": false
   },
   "outputs": [
    {
     "name": "stdout",
     "output_type": "stream",
     "text": [
      "[('', 299), ('pepper', 284), ('salt', 225), ('garlic', 210), ('onion', 179), ('oil', 164), ('black', 135), ('olive', 135), ('chicken', 119), ('breast', 119), ('sugar', 105), ('sauce', 90), ('cilantro', 89), ('red', 75), ('lime', 74), ('steak', 60), ('lemon', 60), ('cayenne', 60), ('juice', 59), ('worcestershire', 45), ('butter', 45), ('green', 45), ('jalapeno', 45), ('soy', 45), ('brown', 45), ('wine', 45), ('paprika', 45), ('mustard', 45), ('thyme', 45), ('pineapple', 44)]\n"
     ]
    }
   ],
   "source": [
    "df = pd.read_csv('data\\grill-and-bbq-normalize.csv', encoding='utf-8', header=1, sep='|')\n",
    "all_ingredients = [row[5].lower() for row in df.itertuples()]\n",
    "\n",
    "combined_ingre = []\n",
    "for ingre in all_ingredients:\n",
    "    for l in ingre.split(\" \",ingre.count(\" \")):    \n",
    "        combined_ingre.append(l)\n",
    "\n",
    "combined_ingre = nltk.FreqDist(combined_ingre)\n",
    "print(combined_ingre.most_common(30))\n"
   ]
  }
 ],
 "metadata": {
  "kernelspec": {
   "display_name": "Python 3",
   "language": "python",
   "name": "python3"
  },
  "language_info": {
   "codemirror_mode": {
    "name": "ipython",
    "version": 3
   },
   "file_extension": ".py",
   "mimetype": "text/x-python",
   "name": "python",
   "nbconvert_exporter": "python",
   "pygments_lexer": "ipython3",
   "version": "3.6.0"
  }
 },
 "nbformat": 4,
 "nbformat_minor": 2
}
