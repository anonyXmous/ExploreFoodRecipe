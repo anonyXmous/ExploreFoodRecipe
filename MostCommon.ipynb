{
 "cells": [
  {
   "cell_type": "code",
   "execution_count": 1,
   "metadata": {
    "collapsed": true
   },
   "outputs": [],
   "source": [
    "import pandas as pd\n",
    "import nltk\n"
   ]
  },
  {
   "cell_type": "code",
   "execution_count": 12,
   "metadata": {
    "collapsed": false
   },
   "outputs": [
    {
     "name": "stdout",
     "output_type": "stream",
     "text": [
      "MOST COMMON\n",
      "[('pepper', 2079), ('garlic', 1463), ('oil', 1309), ('salt', 1238), ('sauce', 1024), ('chicken', 971), ('onion', 961), ('olive', 837), ('black', 781), ('sugar', 764), ('vinegar', 603), ('red', 590), ('lemon', 588), ('soy', 493), ('breast', 492), ('brown', 475), ('mustard', 436), ('pork', 433), ('juice', 381), ('lime', 343), ('ginger', 341), ('powder', 318), ('kosher', 307), ('cumin', 302), ('cilantro', 286), ('chili', 284), ('honey', 281), ('steak', 280), ('paprika', 274), ('vegetable', 263)]\n",
      "************************\n",
      "LEAST COMMON\n",
      "[('hing', 1), ('chocolate', 1), ('condensed', 1), ('lardons', 1), ('jerk', 1), ('fall', 1), ('prune', 1), ('pith', 1), ('sunflower', 1), ('fraîche', 1), ('crème', 1), ('tilapia', 1), ('vegan', 1), ('blackberries', 1), ('harina', 1), ('rotini', 1), ('cordial', 1), ('strawberry', 1), ('grease', 1), ('turnip', 1), ('umeboshi', 1), ('mizuna', 1), ('mussels', 1), ('calamari', 1), ('okra', 1), ('tartar', 1), ('cottage', 1), ('whip', 1), ('cool', 1), ('protein', 1), ('cod', 1), ('marnier', 1), ('grand', 1), ('parsnips', 1), ('garni', 1), ('bouquet', 1), ('chestnut', 1), ('water', 1), ('simmer', 1), ('wasabi', 1), ('agar', 1), ('blanch', 1), ('drippings', 1), ('meatloaf', 1), ('scampi', 1), ('chanterelle', 1), ('cranberries', 1), ('skim', 1), ('marrow', 1), ('poppy', 1), ('melon', 1), ('wash', 1), ('chard', 1), ('chevre', 1), ('champagne', 1), ('beet', 1), ('fraiche', 1), ('creme', 1), ('fryer', 1), ('wild', 1), ('key', 1), ('frenched', 1), ('somen', 1), ('rabbit', 1), ('galanga', 1), ('mascarpone', 1), ('knead', 1), ('powdered', 1), ('sec', 1), ('triple', 1), ('saute', 1), ('nitrite', 1), ('combine', 1), ('vodka', 1), ('bisquick', 1), ('clams', 1), ('yield', 1), ('rotisserie', 1), ('chickpeas', 1), ('yam', 1), ('and', 1), ('gelatin', 2), ('kiwi', 2), ('fresco', 2), ('queso', 2), ('polenta', 2), ('pumpkin', 2), ('aubergine', 2), ('pastry', 2), ('puff', 2), ('baste', 2), ('boil', 2), ('savory', 2), ('cannellini', 2), ('star', 2), ('cranberry', 2), ('lemonade', 2), ('goose', 2), ('picnic', 2), ('blend', 2), ('aioli', 2), ('dates', 2), ('dal', 2), ('chervil', 2), ('gorgonzola', 2), ('usda', 2), ('reduction', 2), ('pecans', 2), ('crab', 2), ('pimento', 2), ('oysters', 2), ('evaporated', 2), ('mesclun', 2), ('pistachio', 2), ('orzo', 2), ('hazelnut', 2), ('provolone', 2), ('chiffonade', 2), ('romaine', 2), ('free', 2), ('brussels', 2), ('easter', 2), ('tart', 2), ('veal', 2), ('asiago', 2), ('farfalle', 2), ('stuffing', 2), ('rabe', 2), ('beets', 2), ('winter', 2), ('soda', 2), ('cooker', 2), ('slow', 2), ('nori', 2), ('half', 2), ('leeks', 3), ('marsala', 3), ('ricotta', 3), ('daikon', 3), ('pecan', 3), ('provence', 3), ('de', 3), ('herbes', 3), ('roll', 3), ('hard', 3), ('jicama', 3), ('calorie', 3), ('western', 3), ('aji', 3), ('duck', 3), ('vanilla', 3), ('shoyu', 3), ('radicchio', 3), ('pomegranate', 3), ('rhubarb', 3), ('alcohol', 3), ('seasonings', 3), ('lentil', 3), ('arborio', 3), ('cantaloupe', 3), ('baking', 3), ('lobster', 3), ('salmon', 3), ('tamarind', 4), ('raspberries', 4), ('alfredo', 4), ('sauerkraut', 4), ('leek', 4), ('mahi', 4), ('venison', 4), ('smith', 4), ('granny', 4), ('seafood', 4), ('shortening', 4), ('bonnet', 4), ('scotch', 4), ('iron', 4), ('papaya', 4), ('cornmeal', 4), ('glaze', 4), ('capsicum', 4), ('figs', 4), ('pancetta', 4), ('soba', 4), ('hair', 4), ('angel', 4), ('heart', 4), ('artichoke', 4), ('habanero', 4), ('starch', 4), ('pea', 4), ('snow', 4), ('brandy', 4), ('drain', 5), ('mangos', 5), ('core', 5), ('dash', 5), ('scallops', 5), ('vermouth', 5), ('kalamata', 5), ('cocoa', 5), ('watercress', 5), ('parmigiano-reggiano', 5), ('essence', 5), ('ale', 5), ('cauliflower', 5), ('splenda', 5), ('tahini', 5), ('reduce', 5), ('grass', 5), ('tamari', 5), ('masa', 5), ('blueberries', 6), ('nectarine', 6), ('broil', 6), ('msg', 6), ('feta', 6), ('harissa', 6), ('couscous', 6), ('watermelon', 6), ('buttermilk', 6), ('cherries', 6), ('steam', 6), ('mace', 6), ('snap', 6), ('soften', 6), ('strawberries', 7), ('swiss', 7), ('gingerroot', 7), ('port', 7), ('mayo', 7), ('coloring', 7), ('food', 7), ('cashew', 7), ('pear', 7), ('panko', 7), ('chutney', 7), ('gluten', 7), ('soup', 7), ('raisins', 7), ('fruit', 7), ('prosciutto', 7), ('peanuts', 7), ('vinaigrette', 7), ('summer', 7), ('toast', 7), ('grapefruit', 8), ('yoghurt', 8), ('raspberry', 8), ('organic', 8), ('puree', 8), ('miso', 8), ('yeast', 8), ('kale', 8), ('choy', 8), ('bok', 8), ('greens', 8), ('bouillon', 9), ('saffron', 9), ('caraway', 9), ('tea', 9), ('anchovy', 9), ('radish', 9), ('sodium', 9), ('pita', 9), ('banana', 10), ('stew', 10), ('taco', 10), ('sambal', 10), ('tofu', 10), ('tomatillo', 10), ('sake', 10), ('mole', 10), ('anise', 11), ('margarine', 11), ('spring', 11), ('walnut', 11), ('grapes', 11), ('peas', 11), ('mushroom', 11), ('asparagus', 12), ('mexican', 12), ('cardamom', 12), ('sweet', 12), ('sprouts', 12), ('baby', 12), ('sun-dried', 13), ('bean', 13), ('oranges', 14), ('capers', 14), ('goat', 14), ('masala', 14), ('garam', 14), ('broccoli', 15), ('pasta', 15), ('horseradish', 16), ('almond', 16), ('nut', 16), ('pine', 16), ('peppercorn', 16), ('coffee', 16), ('pizza', 17), ('seasoning', 17), ('blue', 17), ('five-spice', 17), ('arugula', 17), ('plum', 18), ('yellow', 18), ('marjoram', 18), ('all-purpose', 18), ('herb', 19), ('adobo', 19), ('peppers', 19), ('fennel', 20), ('maple', 20), ('wheat', 21), ('potato', 21), ('chops', 21), ('salad', 21), ('tequila', 22), ('leaf', 22), ('mango', 22), ('teriyaki', 22), ('shrimp', 22), ('turkey', 22), ('eggs', 23), ('eggplant', 23), ('oyster', 23), ('tabasco', 25), ('nutmeg', 25), ('ribs', 25), ('short', 25), ('syrup', 26), ('turmeric', 26), ('mirin', 26), ('tarragon', 27), ('apricot', 27), ('leaves', 28), ('cube', 29), ('squash', 29), ('catsup', 30), ('root', 30), ('carrot', 30), ('mince', 31), ('peanut', 31), ('peach', 32), ('sausage', 33), ('fillet', 33), ('chives', 33), ('carrots', 33), ('grate', 34), ('crumbs', 35), ('bread', 35), ('spinach', 35), ('sage', 37), ('dill', 37), ('lamb', 39), ('parmesan', 40), ('mozzarella', 40), ('cabbage', 40), ('beans', 42), ('cornstarch', 44), ('marinade', 45), ('seed', 46), ('sherry', 48), ('cloves', 48), ('curry', 48), ('paste', 48), ('cheddar', 50), ('bay', 50), ('cherry', 51), ('spice', 51), ('sour', 51), ('coconut', 52), ('hoisin', 52), ('lettuce', 54), ('cucumber', 54), ('bacon', 55), ('stock', 56), ('beer', 57), ('mint', 58), ('allspice', 59), ('avocado', 59), ('zucchini', 60), ('flour', 61), ('smoke', 61), ('liquid', 61), ('molasses', 62), ('potatoe', 62), ('broth', 63), ('egg', 65), ('italian', 67), ('milk', 68), ('zest', 68), ('fish', 69), ('tortilla', 69), ('ham', 70), ('corn', 72), ('jalapeno', 75), ('spray', 76), ('canola', 76), ('apple', 77), ('mayonnaise', 77), ('skewer', 77), ('shallot', 84), ('yogurt', 85), ('celery', 86), ('onions', 86), ('cinnamon', 87), ('seeds', 87), ('cooking', 88), ('scallion', 90), ('cream', 90), ('mushrooms', 97), ('virgin', 98), ('extra', 98), ('bbq', 100), ('chile', 100), ('barbecue', 101), ('balsamic', 103), ('flakes', 103), ('loin', 108), ('pineapple', 121), ('season', 122), ('basil', 123), ('beef', 125), ('rosemary', 139), ('coriander', 143), ('rice', 155), ('dijon', 156), ('tenderloin', 159), ('orange', 164), ('cheese', 165), ('tomato', 173), ('green', 175), ('white', 183), ('ground', 186), ('thyme', 191), ('tomatoes', 193), ('ketchup', 196), ('cider', 199), ('oregano', 204), ('parsley', 209), ('bell', 210), ('cayenne', 231), ('worcestershire', 233), ('wine', 235), ('sesame', 247), ('butter', 259), ('vegetable', 263), ('paprika', 274), ('steak', 280), ('honey', 281), ('chili', 284), ('cilantro', 286), ('cumin', 302), ('kosher', 307), ('powder', 318), ('ginger', 341), ('lime', 343), ('juice', 381), ('pork', 433), ('mustard', 436), ('brown', 475), ('breast', 492), ('soy', 493), ('lemon', 588), ('red', 590), ('vinegar', 603), ('sugar', 764), ('black', 781), ('olive', 837), ('onion', 961), ('chicken', 971), ('sauce', 1024), ('salt', 1238), ('oil', 1309), ('garlic', 1463), ('pepper', 2079)]\n"
     ]
    }
   ],
   "source": [
    "#df = pd.read_csv('data\\grill-and-bbq-normalize.csv', encoding='utf-8', header=1, sep='|')\n",
    "df = pd.read_csv('data/ingredients.csv', encoding='utf-8', header=0, sep='|')\n",
    "all_ingredients = [row[4].lower() for row in df.itertuples()]\n",
    "\n",
    "combined_ingre = []\n",
    "for ingre in all_ingredients:\n",
    "    for l in ingre.split(\" \",ingre.count(\" \")):    \n",
    "        combined_ingre.append(l)\n",
    "\n",
    "combined_ingre = nltk.FreqDist(combined_ingre)\n",
    "print(\"MOST COMMON\")\n",
    "print(combined_ingre.most_common(30))\n",
    "print(\"************************\")\n",
    "print(\"LEAST COMMON\")\n",
    "print(list(reversed(combined_ingre.most_common(1000))))\n"
   ]
  }
 ],
 "metadata": {
  "kernelspec": {
   "display_name": "Python 3",
   "language": "python",
   "name": "python3"
  },
  "language_info": {
   "codemirror_mode": {
    "name": "ipython",
    "version": 3
   },
   "file_extension": ".py",
   "mimetype": "text/x-python",
   "name": "python",
   "nbconvert_exporter": "python",
   "pygments_lexer": "ipython3",
   "version": "3.6.0"
  }
 },
 "nbformat": 4,
 "nbformat_minor": 2
}
