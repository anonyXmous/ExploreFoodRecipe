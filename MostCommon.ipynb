{
 "cells": [
  {
   "cell_type": "code",
   "execution_count": 1,
   "metadata": {
    "collapsed": true
   },
   "outputs": [],
   "source": [
    "import pandas as pd\n",
    "import nltk\n"
   ]
  },
  {
   "cell_type": "code",
   "execution_count": 2,
   "metadata": {
    "collapsed": false
   },
   "outputs": [
    {
     "name": "stdout",
     "output_type": "stream",
     "text": [
      "MOST COMMON\n",
      "[('pepper', 2509), ('garlic', 1775), ('oil', 1566), ('salt', 1489), ('sauce', 1268), ('chicken', 1183), ('onion', 1159), ('olive', 990), ('sugar', 950), ('black', 933), ('vinegar', 762), ('lemon', 720), ('red', 719), ('soy', 602), ('breast', 582), ('brown', 575), ('mustard', 545), ('pork', 525), ('juice', 465), ('lime', 416), ('ginger', 398), ('powder', 383), ('chili', 359), ('cumin', 348), ('kosher', 344), ('paprika', 335), ('steak', 332), ('cilantro', 328), ('honey', 325), ('butter', 319)]\n",
      "************************\n",
      "LEAST COMMON\n",
      "[('hing', 1), ('condensed', 1), ('lardons', 1), ('jerk', 1), ('fall', 1), ('pith', 1), ('sunflower', 1), ('fraîche', 1), ('crème', 1), ('tilapia', 1), ('vegan', 1), ('blackberries', 1), ('harina', 1), ('rotini', 1), ('cordial', 1), ('strawberry', 1), ('grease', 1), ('turnip', 1), ('umeboshi', 1), ('mizuna', 1), ('aging', 1), ('lima', 1), ('endive', 1), ('tuna', 1), ('anchovies', 1), ('black-eyed', 1), ('stir-fry', 1), ('marinate', 1), ('tempura', 1), ('corned', 1), ('roux', 1), ('kaffir', 1), ('grape', 1), ('stilton', 1), ('scallop', 1), ('celeriac', 1), ('mussels', 1), ('calamari', 1), ('okra', 1), ('tartar', 1), ('cottage', 1), ('cool', 1), ('protein', 1), ('cod', 1), ('marnier', 1), ('grand', 1), ('parsnips', 1), ('garni', 1), ('bouquet', 1), ('chestnut', 1), ('water', 1), ('wasabi', 1), ('agar', 1), ('blanch', 1), ('meatloaf', 1), ('scampi', 1), ('chanterelle', 1), ('marrow', 1), ('poppy', 1), ('melon', 1), ('chard', 1), ('chevre', 1), ('champagne', 1), ('beet', 1), ('fraiche', 1), ('creme', 1), ('fryer', 1), ('wild', 1), ('key', 1), ('frenched', 1), ('somen', 1), ('rabbit', 1), ('mascarpone', 1), ('knead', 1), ('powdered', 1), ('sec', 1), ('triple', 1), ('saute', 1), ('nitrite', 1), ('combine', 1), ('vodka', 1), ('bisquick', 1), ('clams', 1), ('rotisserie', 1), ('chickpeas', 1), ('yam', 1), ('gelatin', 2), ('kiwi', 2), ('fresco', 2), ('queso', 2), ('pastry', 2), ('puff', 2), ('tapioca', 2), ('chocolate', 2), ('gruyere', 2), ('lard', 2), ('cake', 2), ('whip', 2), ('goose', 2), ('aioli', 2), ('drippings', 2), ('dates', 2), ('usda', 2), ('cranberries', 2), ('reduction', 2), ('pecans', 2), ('skim', 2), ('pimento', 2), ('evaporated', 2), ('mesclun', 2), ('pistachio', 2), ('chiffonade', 2), ('romaine', 2), ('free', 2), ('brussels', 2), ('easter', 2), ('tart', 2), ('veal', 2), ('asiago', 2), ('farfalle', 2), ('stuffing', 2), ('rabe', 2), ('beets', 2), ('winter', 2), ('cooker', 2), ('slow', 2), ('yield', 2), ('nori', 2), ('and', 2), ('ricotta', 3), ('polenta', 3), ('baste', 3), ('pumpkin', 3), ('cannellini', 3), ('cranberry', 3), ('lemonade', 3), ('picnic', 3), ('blend', 3), ('simmer', 3), ('roll', 3), ('hard', 3), ('dal', 3), ('chervil', 3), ('gorgonzola', 3), ('calorie', 3), ('crab', 3), ('wash', 3), ('oysters', 3), ('western', 3), ('aji', 3), ('vanilla', 3), ('orzo', 3), ('shoyu', 3), ('galanga', 3), ('rhubarb', 3), ('alcohol', 3), ('seasonings', 3), ('arborio', 3), ('cantaloupe', 3), ('soda', 3), ('lobster', 3), ('leeks', 4), ('daikon', 4), ('star', 4), ('pecan', 4), ('jicama', 4), ('leek', 4), ('mahi', 4), ('bonnet', 4), ('scotch', 4), ('iron', 4), ('provolone', 4), ('radicchio', 4), ('cornmeal', 4), ('lentil', 4), ('habanero', 4), ('baking', 4), ('pea', 4), ('snow', 4), ('salmon', 4), ('half', 4), ('aubergine', 5), ('prune', 5), ('tamarind', 5), ('savory', 5), ('raspberries', 5), ('alfredo', 5), ('sauerkraut', 5), ('core', 5), ('vermouth', 5), ('kalamata', 5), ('cocoa', 5), ('hazelnut', 5), ('pomegranate', 5), ('ale', 5), ('glaze', 5), ('splenda', 5), ('figs', 5), ('pancetta', 5), ('soba', 5), ('tahini', 5), ('heart', 5), ('boil', 6), ('marsala', 6), ('provence', 6), ('de', 6), ('herbes', 6), ('nectarine', 6), ('venison', 6), ('smith', 6), ('granny', 6), ('seafood', 6), ('shortening', 6), ('dash', 6), ('duck', 6), ('parmigiano-reggiano', 6), ('essence', 6), ('feta', 6), ('watermelon', 6), ('capsicum', 6), ('cherries', 6), ('steam', 6), ('artichoke', 6), ('reduce', 6), ('snap', 6), ('brandy', 6), ('masa', 6), ('blueberries', 7), ('drain', 7), ('mangos', 7), ('harissa', 7), ('cauliflower', 7), ('panko', 7), ('gluten', 7), ('raisins', 7), ('fruit', 7), ('mace', 7), ('hair', 7), ('angel', 7), ('soften', 7), ('starch', 7), ('strawberries', 8), ('papaya', 8), ('grapefruit', 8), ('port', 8), ('watercress', 8), ('msg', 8), ('mayo', 8), ('couscous', 8), ('soup', 8), ('kale', 8), ('grass', 8), ('tamari', 8), ('summer', 8), ('swiss', 9), ('scallops', 9), ('broil', 9), ('yoghurt', 9), ('raspberry', 9), ('organic', 9), ('yeast', 9), ('buttermilk', 9), ('chutney', 9), ('prosciutto', 9), ('radish', 9), ('vinaigrette', 9), ('toast', 9), ('saffron', 10), ('stew', 10), ('pear', 10), ('miso', 10), ('tea', 10), ('taco', 10), ('sambal', 10), ('greens', 10), ('pita', 10), ('banana', 11), ('caraway', 11), ('gingerroot', 11), ('cashew', 11), ('tofu', 11), ('choy', 11), ('bok', 11), ('tomatillo', 11), ('peanuts', 11), ('sake', 11), ('sodium', 11), ('mole', 11), ('bouillon', 12), ('coloring', 12), ('food', 12), ('puree', 12), ('anise', 13), ('grapes', 13), ('anchovy', 13), ('spring', 14), ('walnut', 14), ('mexican', 14), ('sun-dried', 14), ('sweet', 14), ('peas', 14), ('baby', 14), ('masala', 15), ('garam', 15), ('sprouts', 15), ('mushroom', 15), ('asparagus', 16), ('cardamom', 16), ('goat', 17), ('pasta', 17), ('bean', 17), ('coffee', 17), ('pizza', 18), ('oranges', 18), ('horseradish', 18), ('capers', 18), ('seasoning', 18), ('nut', 18), ('pine', 18), ('almond', 19), ('peppercorn', 19), ('broccoli', 20), ('blue', 20), ('peppers', 20), ('arugula', 20), ('margarine', 21), ('yellow', 21), ('chops', 21), ('five-spice', 21), ('all-purpose', 21), ('tequila', 22), ('herb', 24), ('marjoram', 24), ('leaf', 24), ('potato', 24), ('salad', 24), ('shrimp', 24), ('fennel', 25), ('wheat', 25), ('adobo', 25), ('ribs', 25), ('short', 25), ('teriyaki', 26), ('eggplant', 26), ('maple', 27), ('oyster', 27), ('eggs', 28), ('mirin', 28), ('turkey', 28), ('turmeric', 29), ('mango', 29), ('plum', 30), ('nutmeg', 34), ('squash', 34), ('mince', 34), ('syrup', 35), ('cube', 36), ('tarragon', 36), ('chives', 36), ('carrot', 36), ('peanut', 37), ('sausage', 38), ('apricot', 38), ('crumbs', 38), ('bread', 38), ('leaves', 38), ('peach', 39), ('carrots', 39), ('spinach', 39), ('grate', 39), ('tabasco', 40), ('cabbage', 42), ('fillet', 44), ('dill', 44), ('catsup', 45), ('sage', 45), ('root', 45), ('parmesan', 46), ('mozzarella', 46), ('cornstarch', 49), ('seed', 53), ('marinade', 54), ('beans', 55), ('cheddar', 56), ('curry', 56), ('lamb', 56), ('cloves', 59), ('spice', 60), ('bay', 60), ('cucumber', 60), ('paste', 60), ('cherry', 61), ('coconut', 62), ('sour', 62), ('avocado', 63), ('sherry', 66), ('beer', 66), ('allspice', 67), ('hoisin', 67), ('smoke', 69), ('liquid', 69), ('zucchini', 71), ('flour', 73), ('broth', 73), ('lettuce', 74), ('stock', 74), ('mint', 75), ('bacon', 77), ('egg', 77), ('molasses', 78), ('potatoe', 78), ('zest', 79), ('milk', 80), ('spray', 82), ('italian', 83), ('tortilla', 84), ('fish', 86), ('mayonnaise', 86), ('jalapeno', 89), ('skewer', 93), ('canola', 94), ('apple', 95), ('corn', 95), ('ham', 95), ('yogurt', 98), ('cooking', 99), ('celery', 99), ('seeds', 99), ('shallot', 103), ('cinnamon', 106), ('onions', 109), ('mushrooms', 111), ('cream', 113), ('scallion', 115), ('bbq', 115), ('virgin', 116), ('extra', 116), ('flakes', 118), ('chile', 123), ('balsamic', 127), ('loin', 132), ('barbecue', 132), ('pineapple', 140), ('season', 143), ('beef', 158), ('basil', 160), ('coriander', 183), ('rosemary', 185), ('cheese', 190), ('rice', 192), ('orange', 194), ('tenderloin', 196), ('dijon', 198), ('ground', 207), ('green', 217), ('tomato', 217), ('white', 222), ('tomatoes', 227), ('parsley', 228), ('thyme', 230), ('cider', 235), ('ketchup', 237), ('oregano', 239), ('bell', 252), ('cayenne', 285), ('worcestershire', 289), ('wine', 290), ('sesame', 302), ('vegetable', 307), ('butter', 319), ('honey', 325), ('cilantro', 328), ('steak', 332), ('paprika', 335), ('kosher', 344), ('cumin', 348), ('chili', 359), ('powder', 383), ('ginger', 398), ('lime', 416), ('juice', 465), ('pork', 525), ('mustard', 545), ('brown', 575), ('breast', 582), ('soy', 602), ('red', 719), ('lemon', 720), ('vinegar', 762), ('black', 933), ('sugar', 950), ('olive', 990), ('onion', 1159), ('chicken', 1183), ('sauce', 1268), ('salt', 1489), ('oil', 1566), ('garlic', 1775), ('pepper', 2509)]\n"
     ]
    }
   ],
   "source": [
    "#df = pd.read_csv('data\\grill-and-bbq-normalize.csv', encoding='utf-8', header=1, sep='|')\n",
    "df = pd.read_csv('data/ingredients.csv', encoding='utf-8', header=0, sep='|')\n",
    "all_ingredients = [row[4].lower() for row in df.itertuples()]\n",
    "\n",
    "combined_ingre = []\n",
    "for ingre in all_ingredients:\n",
    "    for l in ingre.split(\" \",ingre.count(\" \")):    \n",
    "        combined_ingre.append(l)\n",
    "\n",
    "combined_ingre = nltk.FreqDist(combined_ingre)\n",
    "print(\"MOST COMMON\")\n",
    "print(combined_ingre.most_common(30))\n",
    "print(\"************************\")\n",
    "print(\"LEAST COMMON\")\n",
    "print(list(reversed(combined_ingre.most_common(1000))))\n"
   ]
  }
 ],
 "metadata": {
  "kernelspec": {
   "display_name": "Python 3",
   "language": "python",
   "name": "python3"
  },
  "language_info": {
   "codemirror_mode": {
    "name": "ipython",
    "version": 3
   },
   "file_extension": ".py",
   "mimetype": "text/x-python",
   "name": "python",
   "nbconvert_exporter": "python",
   "pygments_lexer": "ipython3",
   "version": "3.6.0"
  }
 },
 "nbformat": 4,
 "nbformat_minor": 2
}
