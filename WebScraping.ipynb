{
 "cells": [
  {
   "cell_type": "code",
   "execution_count": 6,
   "metadata": {
    "collapsed": false
   },
   "outputs": [
    {
     "name": "stdout",
     "output_type": "stream",
     "text": [
      "Open recipe page #:  1\n"
     ]
    }
   ],
   "source": [
    "import urllib.request\n",
    "import re\n",
    "\n",
    "import contextlib\n",
    "\n",
    "mainpage = \"https://www.bigoven.com/recipes/main-dish/grill-and-bbq/page/\"\n",
    "\n",
    "# look for pattern that starts with tag data-url on the mainpage\n",
    "# thanks to http://stackoverflow.com/questions/6883049/regex-to-find-urls-in-string-in-python\n",
    "regex = 'data\\-url\\=\\\"http[s]?://(?:[a-zA-Z]|[0-9]|[$-_@.&+]|[!*\\(\\),]|(?:%[0-9a-fA-F][0-9a-fA-F]))+\\\"'\n",
    "pattern = re.compile(regex)\n",
    "\n",
    "# pattern for webpage for recipes\n",
    "recipe_re = 'http[s]?://(?:[a-zA-Z]|[0-9]|[$-_@.&+]|[!*\\(\\),]|(?:%[0-9a-fA-F][0-9a-fA-F]))+'\n",
    "recipe_pat = re.compile(recipe_re)\n",
    "\n",
    "ingre_re = r'\"glosslink\">+.*</a>+'\n",
    "amt_re   =  r'\"amount\">+.*</span>+'\n",
    "\n",
    "file_handler = open('grill-and-bbq.csv', 'w')\n",
    "# put header\n",
    "file_handler.write(\"{}\\n\".format(\"PAGE|URL|COUNT|INGREDIENT|AMOUNT\"))\n",
    "\n",
    "for j in range(1,237):\n",
    "    print(\"Open recipe page #: \",str(j))\n",
    "    with contextlib.closing(urllib.request.urlopen(mainpage+str(j))) as url:\n",
    "        htmltext = url.read().decode()\n",
    "    # scrape a list of recipe websites for each page\n",
    "    results = re.findall(pattern,htmltext)\n",
    "    for i in range(len(results)):\n",
    "        # scrape the ingredients per websites from the previous result    \n",
    "        for i in range(len(results)):\n",
    "            recipe_dic = {}\n",
    "            recipe_url  = re.findall(recipe_pat,results[i])\n",
    "            with contextlib.closing(urllib.request.urlopen(recipe_url[0])) as recipe_req:\n",
    "                recipe_html = recipe_req.read().decode()\n",
    "            ingredients = re.findall(ingre_re,recipe_html)\n",
    "            amount     = re.findall(amt_re,recipe_html)\n",
    "            # write the results in csv file\n",
    "            for l in range(len(ingredients)):  \n",
    "                ingre = ingredients[l].replace('\"glosslink\">','').replace('</a>','')\n",
    "                amt = amount[l].replace('\"amount\">','').replace('</span>','')\n",
    "                file_handler.write(\"{}\\n\".format(str(j)+\"|\"+recipe_url[0]+\"|\"+str(len(amount))+\"|\"+amt+\"|\"+ingre))\n",
    "\n",
    "\n",
    "         \n"
   ]
  },
  {
   "cell_type": "code",
   "execution_count": null,
   "metadata": {
    "collapsed": true
   },
   "outputs": [],
   "source": []
  }
 ],
 "metadata": {
  "kernelspec": {
   "display_name": "Python 3",
   "language": "python",
   "name": "python3"
  },
  "language_info": {
   "codemirror_mode": {
    "name": "ipython",
    "version": 3
   },
   "file_extension": ".py",
   "mimetype": "text/x-python",
   "name": "python",
   "nbconvert_exporter": "python",
   "pygments_lexer": "ipython3",
   "version": "3.6.0"
  }
 },
 "nbformat": 4,
 "nbformat_minor": 2
}
