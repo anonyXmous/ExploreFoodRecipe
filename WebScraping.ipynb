{
 "cells": [
  {
   "cell_type": "code",
   "execution_count": 62,
   "metadata": {
    "collapsed": false
   },
   "outputs": [],
   "source": [
    "import urllib.request\n",
    "import re\n",
    "\n",
    "from lxml import html\n",
    "import requests\n",
    "\n",
    "mainpage = \"https://www.bigoven.com/recipes/main-dish/grill-and-bbq/page/\"\n",
    "\n",
    "# look for pattern that starts with tag data-url on the mainpage\n",
    "# thanks to http://stackoverflow.com/questions/6883049/regex-to-find-urls-in-string-in-python\n",
    "regex = 'data\\-url\\=\\\"http[s]?://(?:[a-zA-Z]|[0-9]|[$-_@.&+]|[!*\\(\\),]|(?:%[0-9a-fA-F][0-9a-fA-F]))+\\\"'\n",
    "pattern = re.compile(regex)\n",
    "\n",
    "# pattern for webpage for recipes\n",
    "recipe_re = 'http[s]?://(?:[a-zA-Z]|[0-9]|[$-_@.&+]|[!*\\(\\),]|(?:%[0-9a-fA-F][0-9a-fA-F]))+'\n",
    "recipe_pat = re.compile(recipe_re)\n",
    "\n",
    "file_handler = open('recipe.csv', 'w')\n",
    "\n",
    "for j in range(0,237):\n",
    "    with urllib.request.urlopen(mainpage+str(j)) as url:\n",
    "        htmltext = url.read().decode()\n",
    "    # scrape a list of recipe websites for each page\n",
    "    results = re.findall(pattern,htmltext)\n",
    "    #for item in results:        \n",
    "    for i in range(len(results)):\n",
    "        # scrape the ingredients per websites from the previous result    \n",
    "        for i in range(len(results)):\n",
    "            recipe_url  = re.findall(recipe_pat,results[i])\n",
    "            #recipe_req  = urllib.request.urlopen(recipe_url[0])\n",
    "            page = requests.get(recipe_url[0])\n",
    "            #recipe_html = recipe_req.read().decode()\n",
    "            tree = html.fromstring(page.content)\n",
    "            amt   = tree.xpath('//span[@class=\"amount\"]/text()')\n",
    "            # Chisoo, having problem on ingredients, please help\n",
    "            # below uses tree path BUT NOT WORKING\n",
    "            #ingredients = tree.xpath('//span[@class=\"name\"]/text()')\n",
    "            #print(\"ingredients: \", ingredients)\n",
    "            sAmt = ''\n",
    "            for k in range(len(amt)):\n",
    "                sAmt += amt[k] + \",\"\n",
    "                if k == len(amt)-1: sAmt = sAmt[:-1]\n",
    "            file_handler.write(\"{}\\n\".format(recipe_url[0]+\",\"+str(len(amt))+\",\"+sAmt))\n",
    "            #remove the breaks when ingredients is correct            \n",
    "            break   #for ingredients\n",
    "        break    #for loop in recipe url\n",
    "    break     #for loop in website page"
   ]
  },
  {
   "cell_type": "code",
   "execution_count": null,
   "metadata": {
    "collapsed": true
   },
   "outputs": [],
   "source": []
  },
  {
   "cell_type": "code",
   "execution_count": null,
   "metadata": {
    "collapsed": true
   },
   "outputs": [],
   "source": []
  }
 ],
 "metadata": {
  "kernelspec": {
   "display_name": "Python 3",
   "language": "python",
   "name": "python3"
  },
  "language_info": {
   "codemirror_mode": {
    "name": "ipython",
    "version": 3
   },
   "file_extension": ".py",
   "mimetype": "text/x-python",
   "name": "python",
   "nbconvert_exporter": "python",
   "pygments_lexer": "ipython3",
   "version": "3.6.0"
  }
 },
 "nbformat": 4,
 "nbformat_minor": 2
}
