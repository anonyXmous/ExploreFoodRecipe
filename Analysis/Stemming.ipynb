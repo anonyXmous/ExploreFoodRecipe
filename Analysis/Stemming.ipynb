{
 "cells": [
  {
   "cell_type": "code",
   "execution_count": 1,
   "metadata": {
    "collapsed": false
   },
   "outputs": [
    {
     "name": "stderr",
     "output_type": "stream",
     "text": [
      "C:\\ProgramData\\Anaconda3\\lib\\site-packages\\gensim-1.0.1-py3.6-win32.egg\\gensim\\utils.py:855: UserWarning: detected Windows; aliasing chunkize to chunkize_serial\n",
      "  warnings.warn(\"detected Windows; aliasing chunkize to chunkize_serial\")\n",
      "Slow version of gensim.models.doc2vec is being used\n"
     ]
    }
   ],
   "source": [
    "import pandas as pd\n",
    "from nltk.tokenize import RegexpTokenizer\n",
    "from nltk.stem.porter import PorterStemmer\n",
    "from gensim import corpora, models\n",
    "import gensim"
   ]
  },
  {
   "cell_type": "code",
   "execution_count": 53,
   "metadata": {
    "collapsed": false
   },
   "outputs": [
    {
     "name": "stdout",
     "output_type": "stream",
     "text": [
      "[(0, '0.111*\"pepper\" + 0.077*\"salt\" + 0.077*\"oil\" + 0.069*\"olive\"'), (1, '0.099*\"salt\" + 0.082*\"pepper\" + 0.080*\"garlic\" + 0.066*\"onion\"'), (2, '0.150*\"sugar\" + 0.069*\"oil\" + 0.052*\"garlic\" + 0.040*\"paprika\"')]\n",
      "[(0, '0.111*\"pepper\" + 0.077*\"salt\" + 0.077*\"oil\" + 0.069*\"olive\" + 0.067*\"garlic\"'), (1, '0.099*\"salt\" + 0.082*\"pepper\" + 0.080*\"garlic\" + 0.066*\"onion\" + 0.034*\"worcestershire_sauce\"'), (2, '0.150*\"sugar\" + 0.069*\"oil\" + 0.052*\"garlic\" + 0.040*\"paprika\" + 0.040*\"pepper\"')]\n",
      "[(0, '0.111*\"pepper\" + 0.077*\"salt\" + 0.077*\"oil\" + 0.069*\"olive\" + 0.067*\"garlic\" + 0.061*\"black\"'), (1, '0.099*\"salt\" + 0.082*\"pepper\" + 0.080*\"garlic\" + 0.066*\"onion\" + 0.034*\"worcestershire_sauce\" + 0.033*\"steak\"'), (2, '0.150*\"sugar\" + 0.069*\"oil\" + 0.052*\"garlic\" + 0.040*\"paprika\" + 0.040*\"pepper\" + 0.040*\"cilantro\"')]\n",
      "[(0, '0.111*\"pepper\" + 0.077*\"salt\" + 0.077*\"oil\" + 0.069*\"olive\" + 0.067*\"garlic\" + 0.061*\"black\" + 0.060*\"onion\"'), (1, '0.099*\"salt\" + 0.082*\"pepper\" + 0.080*\"garlic\" + 0.066*\"onion\" + 0.034*\"worcestershire_sauce\" + 0.033*\"steak\" + 0.033*\"brown_sugar\"'), (2, '0.150*\"sugar\" + 0.069*\"oil\" + 0.052*\"garlic\" + 0.040*\"paprika\" + 0.040*\"pepper\" + 0.040*\"cilantro\" + 0.040*\"olive\"')]\n"
     ]
    }
   ],
   "source": [
    "from gensim.models import Phrases\n",
    "from gensim.models.phrases import Phraser\n",
    "   \n",
    "df = pd.read_csv('data/grill-and-bbq-normalize.csv', encoding='utf-8', header=1, sep='|')\n",
    "recipeSet = [row[5].lower() for row in df.itertuples()]\n",
    "\n",
    "bow_ingre = [reci.split(\" \")[:-1] for reci in recipeSet]\n",
    "\n",
    "phrases = Phrases(bow_ingre, min_count=2, threshold=2)\n",
    "bigram = Phraser(phrases)\n",
    "documents = [bigram[j] for j in bow_ingre]\n",
    "\n",
    "new_bowingre = [doc for doc in documents]\n",
    "corp_dict = corpora.Dictionary(new_bowingre)\n",
    "    \n",
    "corpus = [corp_dict.doc2bow(ingre) for ingre in new_bowingre]\n",
    "\n",
    "ldamodel = gensim.models.ldamodel.LdaModel(corpus, num_topics=3, id2word = corp_dict, passes=20)\n",
    "print(ldamodel.print_topics(num_topics=3, num_words=4))\n",
    "print(ldamodel.print_topics(num_topics=3, num_words=5))\n",
    "print(ldamodel.print_topics(num_topics=3, num_words=6))\n",
    "print(ldamodel.print_topics(num_topics=3, num_words=7))\n",
    "\n"
   ]
  }
 ],
 "metadata": {
  "kernelspec": {
   "display_name": "Python 3",
   "language": "python",
   "name": "python3"
  },
  "language_info": {
   "codemirror_mode": {
    "name": "ipython",
    "version": 3
   },
   "file_extension": ".py",
   "mimetype": "text/x-python",
   "name": "python",
   "nbconvert_exporter": "python",
   "pygments_lexer": "ipython3",
   "version": "3.6.0"
  }
 },
 "nbformat": 4,
 "nbformat_minor": 2
}
