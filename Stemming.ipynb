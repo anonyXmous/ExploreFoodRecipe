{
 "cells": [
  {
   "cell_type": "code",
   "execution_count": 146,
   "metadata": {
    "collapsed": false
   },
   "outputs": [],
   "source": [
    "import pandas as pd\n",
    "from nltk.tokenize import RegexpTokenizer\n",
    "from nltk.stem.porter import PorterStemmer\n",
    "from gensim import corpora, models\n",
    "import gensim"
   ]
  },
  {
   "cell_type": "code",
   "execution_count": 148,
   "metadata": {
    "collapsed": false
   },
   "outputs": [
    {
     "name": "stdout",
     "output_type": "stream",
     "text": [
      "[(0, '0.083*\"olive oil\" + 0.066*\"garlic\" + 0.051*\"lemon\" + 0.046*\"black pepper\"'), (1, '0.071*\"garlic\" + 0.054*\"soy sauce\" + 0.040*\"ginger\" + 0.035*\"cilantro\"'), (2, '0.062*\"garlic\" + 0.050*\"salt\" + 0.047*\"black pepper\" + 0.045*\"onion\"')]\n",
      "[(0, '0.083*\"olive oil\" + 0.066*\"garlic\" + 0.051*\"lemon\" + 0.046*\"black pepper\" + 0.044*\"salt\"'), (1, '0.071*\"garlic\" + 0.054*\"soy sauce\" + 0.040*\"ginger\" + 0.035*\"cilantro\" + 0.028*\"pepper\"'), (2, '0.062*\"garlic\" + 0.050*\"salt\" + 0.047*\"black pepper\" + 0.045*\"onion\" + 0.044*\"brown sugar\"')]\n",
      "[(0, '0.083*\"olive oil\" + 0.066*\"garlic\" + 0.051*\"lemon\" + 0.046*\"black pepper\" + 0.044*\"salt\" + 0.039*\"chicken breast\"'), (1, '0.071*\"garlic\" + 0.054*\"soy sauce\" + 0.040*\"ginger\" + 0.035*\"cilantro\" + 0.028*\"pepper\" + 0.027*\"lime juice\"'), (2, '0.062*\"garlic\" + 0.050*\"salt\" + 0.047*\"black pepper\" + 0.045*\"onion\" + 0.044*\"brown sugar\" + 0.039*\"paprika\"')]\n",
      "[(0, '0.083*\"olive oil\" + 0.066*\"garlic\" + 0.051*\"lemon\" + 0.046*\"black pepper\" + 0.044*\"salt\" + 0.039*\"chicken breast\" + 0.028*\"pepper\"'), (1, '0.071*\"garlic\" + 0.054*\"soy sauce\" + 0.040*\"ginger\" + 0.035*\"cilantro\" + 0.028*\"pepper\" + 0.027*\"lime juice\" + 0.025*\"salt\"'), (2, '0.062*\"garlic\" + 0.050*\"salt\" + 0.047*\"black pepper\" + 0.045*\"onion\" + 0.044*\"brown sugar\" + 0.039*\"paprika\" + 0.035*\"pork\"')]\n"
     ]
    }
   ],
   "source": [
    "from gensim.models import Phrases\n",
    "from gensim.models.phrases import Phraser\n",
    "   \n",
    "#df = pd.read_csv('data/grill-and-bbq-normalize.csv', encoding='utf-8', header=1, sep='|')\n",
    "dfrecipe = pd.read_csv('data/recipeset.csv', encoding='utf-8', header=0, sep='|')\n",
    "dfingre = pd.read_csv('data/ingredients.csv', encoding='utf-8', header=0, sep='|')\n",
    "\n",
    "df = []\n",
    "for i in range(len(dfrecipe)):\n",
    "    j = [dfingre[dfingre['dish_id'] == dfrecipe.dish_id[i]]]\n",
    "    str = j[0]['ingredient'].values \n",
    "    df.append([str[k] for k in range(len(str))])\n",
    "\n",
    "#recipeSet = [row[5].lower() for row in df.itertuples()]\n",
    "\n",
    "#bow_ingre = [reci.split(\" \") for reci in recipeSet]\n",
    "bow_ingre = df\n",
    "\n",
    "phrases = Phrases(bow_ingre, min_count=2, threshold=2)\n",
    "bigram = Phraser(phrases)\n",
    "documents = [bigram[j] for j in bow_ingre]\n",
    "\n",
    "new_bowingre = [doc for doc in documents]\n",
    "corp_dict = corpora.Dictionary(new_bowingre)\n",
    "    \n",
    "corpus = [corp_dict.doc2bow(ingre) for ingre in new_bowingre]\n",
    "\n",
    "ldamodel = gensim.models.ldamodel.LdaModel(corpus, num_topics=3, id2word = corp_dict, passes=20)\n",
    "print(ldamodel.print_topics(num_topics=3, num_words=4))\n",
    "print(ldamodel.print_topics(num_topics=3, num_words=5))\n",
    "print(ldamodel.print_topics(num_topics=3, num_words=6))\n",
    "print(ldamodel.print_topics(num_topics=3, num_words=7))\n",
    "\n"
   ]
  },
  {
   "cell_type": "markdown",
   "metadata": {},
   "source": [
    "TO VERIFY IF RECIPE IS NEW"
   ]
  },
  {
   "cell_type": "code",
   "execution_count": 238,
   "metadata": {
    "collapsed": false
   },
   "outputs": [
    {
     "name": "stdout",
     "output_type": "stream",
     "text": [
      "0    Found the recipe with salt\n",
      "dtype: object\n",
      "0    Found the recipe with garlic\n",
      "dtype: object\n",
      "0     Found the recipe with soy sauce\n",
      "1    Found the recipe with lime juice\n",
      "dtype: object\n",
      "0    Found the recipe with garlic\n",
      "dtype: object\n",
      "0    Found the recipe with ginger\n",
      "dtype: object\n",
      "0    Found the recipe with garlic\n",
      "dtype: object\n",
      "0       Found the recipe with garlic\n",
      "1    Found the recipe with soy sauce\n",
      "dtype: object\n"
     ]
    }
   ],
   "source": [
    "import numpy as np\n",
    "s = pd.Series([k for k in bow_ingre])\n",
    "for k in s:\n",
    "    ind=[]\n",
    "    ky = Series(k)\n",
    "    #This should return True on all ingredients\n",
    "    #ind=ky.isin(['onion', 'red pepper flakes','pork', 'toast', 'coffee', \\\n",
    "                 #'worcestershire sauce','black pepper' ,'liquid smoke','garlic'])\n",
    "    #test2\n",
    "    #ind=ky.isin(['garlic', 'salt','black pepper', 'onion', 'brown sugar','paprika','pork'])\n",
    "    #test3\n",
    "    ind=ky.isin(['garlic', 'soy sauce','ginger', 'cilantro', 'pepper', 'lime juice','salt'])\n",
    "    if (np.sum(ind)==len(ind)):\n",
    "        print('Found the recipe with ' + ky)\n",
    "\n"
   ]
  },
  {
   "cell_type": "code",
   "execution_count": null,
   "metadata": {
    "collapsed": true
   },
   "outputs": [],
   "source": []
  }
 ],
 "metadata": {
  "kernelspec": {
   "display_name": "Python 3",
   "language": "python",
   "name": "python3"
  },
  "language_info": {
   "codemirror_mode": {
    "name": "ipython",
    "version": 3
   },
   "file_extension": ".py",
   "mimetype": "text/x-python",
   "name": "python",
   "nbconvert_exporter": "python",
   "pygments_lexer": "ipython3",
   "version": "3.6.0"
  }
 },
 "nbformat": 4,
 "nbformat_minor": 2
}
