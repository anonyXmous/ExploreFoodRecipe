{
 "cells": [
  {
   "cell_type": "code",
   "execution_count": 1,
   "metadata": {
    "collapsed": false
   },
   "outputs": [
    {
     "name": "stderr",
     "output_type": "stream",
     "text": [
      "C:\\ProgramData\\Anaconda3\\lib\\site-packages\\gensim-1.0.1-py3.6-win32.egg\\gensim\\utils.py:855: UserWarning: detected Windows; aliasing chunkize to chunkize_serial\n",
      "  warnings.warn(\"detected Windows; aliasing chunkize to chunkize_serial\")\n",
      "Slow version of gensim.models.doc2vec is being used\n"
     ]
    }
   ],
   "source": [
    "import pandas as pd\n",
    "from nltk.tokenize import RegexpTokenizer\n",
    "from nltk.stem.porter import PorterStemmer\n",
    "from gensim import corpora, models\n",
    "import gensim"
   ]
  },
  {
   "cell_type": "code",
   "execution_count": 7,
   "metadata": {
    "collapsed": false
   },
   "outputs": [
    {
     "name": "stdout",
     "output_type": "stream",
     "text": [
      "[(0, '0.083*\"onion\" + 0.065*\"garlic\" + 0.059*\"sauc\"'), (1, '0.093*\"pepper\" + 0.064*\"salt\" + 0.060*\"oil\"')]\n",
      "[(0, '0.083*\"onion\" + 0.065*\"garlic\" + 0.059*\"sauc\" + 0.045*\"sugar\"'), (1, '0.093*\"pepper\" + 0.064*\"salt\" + 0.060*\"oil\" + 0.054*\"oliv\"')]\n",
      "[(0, '0.083*\"onion\" + 0.065*\"garlic\" + 0.059*\"sauc\" + 0.045*\"sugar\" + 0.045*\"pepper\"'), (1, '0.093*\"pepper\" + 0.064*\"salt\" + 0.060*\"oil\" + 0.054*\"oliv\" + 0.048*\"black\"')]\n",
      "[(0, '0.083*\"onion\" + 0.065*\"garlic\" + 0.059*\"sauc\" + 0.045*\"sugar\" + 0.045*\"pepper\" + 0.044*\"salt\"'), (1, '0.093*\"pepper\" + 0.064*\"salt\" + 0.060*\"oil\" + 0.054*\"oliv\" + 0.048*\"black\" + 0.048*\"chicken\"')]\n"
     ]
    }
   ],
   "source": [
    "tokenizer = RegexpTokenizer(r'\\w+')\n",
    "p_stemmer = PorterStemmer()\n",
    "    \n",
    "df = pd.read_csv('data/grill-and-bbq-normalize.csv', encoding='utf-8', header=1, sep='|')\n",
    "recipeSet = [row[5].lower() for row in df.itertuples()]\n",
    "\n",
    "bow_ingre = []\n",
    "\n",
    "for i in recipeSet:\n",
    "    tokens = tokenizer.tokenize(i)\n",
    "    stemmed_tokens = [p_stemmer.stem(i) for i in tokens]\n",
    "    bow_ingre.append(stemmed_tokens)\n",
    "\n",
    "corp_dict = corpora.Dictionary(bow_ingre)\n",
    "    \n",
    "corpus = [corp_dict.doc2bow(ingre) for ingre in bow_ingre]\n",
    "\n",
    "ldamodel = gensim.models.ldamodel.LdaModel(corpus, num_topics=2, id2word = corp_dict, passes=20)\n",
    "print(ldamodel.print_topics(num_topics=10, num_words=3))\n",
    "print(ldamodel.print_topics(num_topics=10, num_words=4))\n",
    "print(ldamodel.print_topics(num_topics=10, num_words=5))\n",
    "print(ldamodel.print_topics(num_topics=10, num_words=6))\n"
   ]
  },
  {
   "cell_type": "code",
   "execution_count": null,
   "metadata": {
    "collapsed": true
   },
   "outputs": [],
   "source": []
  },
  {
   "cell_type": "code",
   "execution_count": null,
   "metadata": {
    "collapsed": true
   },
   "outputs": [],
   "source": []
  }
 ],
 "metadata": {
  "kernelspec": {
   "display_name": "Python 3",
   "language": "python",
   "name": "python3"
  },
  "language_info": {
   "codemirror_mode": {
    "name": "ipython",
    "version": 3
   },
   "file_extension": ".py",
   "mimetype": "text/x-python",
   "name": "python",
   "nbconvert_exporter": "python",
   "pygments_lexer": "ipython3",
   "version": "3.6.0"
  }
 },
 "nbformat": 4,
 "nbformat_minor": 2
}
