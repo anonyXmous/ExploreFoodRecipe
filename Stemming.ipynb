{
 "cells": [
  {
   "cell_type": "code",
   "execution_count": 4,
   "metadata": {
    "collapsed": false
   },
   "outputs": [],
   "source": [
    "import pandas as pd\n",
    "#from nltk.tokenize import RegexpTokenizer\n",
    "#from nltk.stem.porter import PorterStemmer\n",
    "from gensim import corpora, models\n",
    "import gensim"
   ]
  },
  {
   "cell_type": "code",
   "execution_count": 5,
   "metadata": {
    "collapsed": false
   },
   "outputs": [
    {
     "name": "stdout",
     "output_type": "stream",
     "text": [
      "[(0, '0.055*\"salt\" + 0.052*\"onion\" + 0.051*\"garlic\" + 0.045*\"brown sugar\"'), (1, '0.071*\"garlic\" + 0.059*\"soy sauce\" + 0.043*\"ginger\" + 0.036*\"cilantro\"'), (2, '0.085*\"olive oil\" + 0.074*\"garlic\" + 0.059*\"lemon\" + 0.048*\"salt\"')]\n",
      "[(0, '0.055*\"salt\" + 0.052*\"onion\" + 0.051*\"garlic\" + 0.045*\"brown sugar\" + 0.045*\"pepper\"'), (1, '0.071*\"garlic\" + 0.059*\"soy sauce\" + 0.043*\"ginger\" + 0.036*\"cilantro\" + 0.031*\"lime juice\"'), (2, '0.085*\"olive oil\" + 0.074*\"garlic\" + 0.059*\"lemon\" + 0.048*\"salt\" + 0.048*\"black pepper\"')]\n",
      "[(0, '0.055*\"salt\" + 0.052*\"onion\" + 0.051*\"garlic\" + 0.045*\"brown sugar\" + 0.045*\"pepper\" + 0.040*\"black pepper\"'), (1, '0.071*\"garlic\" + 0.059*\"soy sauce\" + 0.043*\"ginger\" + 0.036*\"cilantro\" + 0.031*\"lime juice\" + 0.023*\"chicken\"'), (2, '0.085*\"olive oil\" + 0.074*\"garlic\" + 0.059*\"lemon\" + 0.048*\"salt\" + 0.048*\"black pepper\" + 0.042*\"chicken breast\"')]\n",
      "[(0, '0.055*\"salt\" + 0.052*\"onion\" + 0.051*\"garlic\" + 0.045*\"brown sugar\" + 0.045*\"pepper\" + 0.040*\"black pepper\" + 0.036*\"pork\"'), (1, '0.071*\"garlic\" + 0.059*\"soy sauce\" + 0.043*\"ginger\" + 0.036*\"cilantro\" + 0.031*\"lime juice\" + 0.023*\"chicken\" + 0.023*\"sugar\"'), (2, '0.085*\"olive oil\" + 0.074*\"garlic\" + 0.059*\"lemon\" + 0.048*\"salt\" + 0.048*\"black pepper\" + 0.042*\"chicken breast\" + 0.037*\"pepper\"')]\n"
     ]
    }
   ],
   "source": [
    "from gensim.models import Phrases\n",
    "from gensim.models.phrases import Phraser\n",
    "   \n",
    "#df = pd.read_csv('data/grill-and-bbq-normalize.csv', encoding='utf-8', header=1, sep='|')\n",
    "dfrecipe = pd.read_csv('data/recipeset.csv', encoding='utf-8', header=0, sep='|')\n",
    "dfingre = pd.read_csv('data/ingredients.csv', encoding='utf-8', header=0, sep='|')\n",
    "\n",
    "df = []\n",
    "for i in range(len(dfrecipe)):\n",
    "    j = [dfingre[dfingre['dish_id'] == dfrecipe.dish_id[i]]]\n",
    "    str = j[0]['ingredient'].values \n",
    "    df.append([str[k] for k in range(len(str))])\n",
    "\n",
    "#recipeSet = [row[5].lower() for row in df.itertuples()]\n",
    "\n",
    "#bow_ingre = [reci.split(\" \") for reci in recipeSet]\n",
    "bow_ingre = df\n",
    "\n",
    "phrases = Phrases(bow_ingre, min_count=2, threshold=2)\n",
    "bigram = Phraser(phrases)\n",
    "documents = [bigram[j] for j in bow_ingre]\n",
    "\n",
    "new_bowingre = [doc for doc in documents]\n",
    "corp_dict = corpora.Dictionary(new_bowingre)\n",
    "    \n",
    "corpus = [corp_dict.doc2bow(ingre) for ingre in new_bowingre]\n",
    "\n",
    "ldamodel = gensim.models.ldamodel.LdaModel(corpus, num_topics=3, id2word = corp_dict, passes=20)\n",
    "print(ldamodel.print_topics(num_topics=3, num_words=4))\n",
    "print(ldamodel.print_topics(num_topics=3, num_words=5))\n",
    "print(ldamodel.print_topics(num_topics=3, num_words=6))\n",
    "print(ldamodel.print_topics(num_topics=3, num_words=7))\n",
    "\n"
   ]
  },
  {
   "cell_type": "markdown",
   "metadata": {},
   "source": [
    "TO VERIFY IF RECIPE IS NEW"
   ]
  },
  {
   "cell_type": "code",
   "execution_count": 21,
   "metadata": {
    "collapsed": false
   },
   "outputs": [
    {
     "name": "stdout",
     "output_type": "stream",
     "text": [
      "0            Found the recipe with black pepper\n",
      "1                   Found the recipe with onion\n",
      "2       Found the recipe with red pepper flakes\n",
      "3                    Found the recipe with pork\n",
      "4                   Found the recipe with toast\n",
      "5                  Found the recipe with coffee\n",
      "6    Found the recipe with worcestershire sauce\n",
      "7            Found the recipe with liquid smoke\n",
      "8                  Found the recipe with garlic\n",
      "dtype: object\n",
      "0    Found the recipe with garlic\n",
      "dtype: object\n",
      "0    Found the recipe with pork\n",
      "dtype: object\n",
      "0    Found the recipe with onion\n",
      "dtype: object\n",
      "0    Found the recipe with pork\n",
      "dtype: object\n",
      "0    Found the recipe with pork\n",
      "dtype: object\n",
      "0    Found the recipe with pork\n",
      "dtype: object\n",
      "0    Found the recipe with pork\n",
      "dtype: object\n",
      "0    Found the recipe with garlic\n",
      "dtype: object\n",
      "0    Found the recipe with garlic\n",
      "dtype: object\n",
      "0    Found the recipe with pork\n",
      "dtype: object\n"
     ]
    }
   ],
   "source": [
    "import numpy as np\n",
    "from pandas import Series\n",
    "\n",
    "s = pd.Series([k for k in bow_ingre])\n",
    "for k in s:\n",
    "    ind=[]\n",
    "    ky = Series(k)\n",
    "    #This should return True on all ingredients - Passed\n",
    "    #ind=ky.isin(['onion', 'red pepper flakes','pork', 'toast', 'coffee', \\\n",
    "    #             'worcestershire sauce','black pepper' ,'liquid smoke','garlic'])\n",
    "    #test2.7 - Failed\n",
    "    #ind=ky.isin(['olive oil', 'garlic','lemon', 'salt', 'black pepper','chicken breast','pepper'])\n",
    "    #test1.7 - remove chicken since very common - Passed\n",
    "    #ind=ky.isin(['garlic', 'soy sauce','ginger', 'cilantro', 'lime juice','sugar'])\n",
    "    #test0.7 remove black pepper and - Passed\n",
    "    ind=ky.isin(['salt','onion','garlic','brown sugar','pepper','pork']) # add 'olive oil' maybe? \n",
    "    if (np.sum(ind)==len(ind)):\n",
    "        print('Found the recipe with ' + ky)\n",
    "\n"
   ]
  },
  {
   "cell_type": "code",
   "execution_count": null,
   "metadata": {
    "collapsed": true
   },
   "outputs": [],
   "source": []
  }
 ],
 "metadata": {
  "kernelspec": {
   "display_name": "Python 3",
   "language": "python",
   "name": "python3"
  },
  "language_info": {
   "codemirror_mode": {
    "name": "ipython",
    "version": 3
   },
   "file_extension": ".py",
   "mimetype": "text/x-python",
   "name": "python",
   "nbconvert_exporter": "python",
   "pygments_lexer": "ipython3",
   "version": "3.6.0"
  }
 },
 "nbformat": 4,
 "nbformat_minor": 2
}
