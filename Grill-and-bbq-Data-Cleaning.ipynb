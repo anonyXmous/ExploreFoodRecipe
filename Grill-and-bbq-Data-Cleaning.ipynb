{
 "cells": [
  {
   "cell_type": "markdown",
   "metadata": {},
   "source": [
    "# Grill and BBQ Data Cleaning"
   ]
  },
  {
   "cell_type": "markdown",
   "metadata": {},
   "source": [
    "## Setup"
   ]
  },
  {
   "cell_type": "code",
   "execution_count": 1,
   "metadata": {
    "collapsed": true
   },
   "outputs": [],
   "source": [
    "import numpy as np\n",
    "import pandas as pd\n",
    "import re"
   ]
  },
  {
   "cell_type": "code",
   "execution_count": 2,
   "metadata": {
    "collapsed": true
   },
   "outputs": [],
   "source": [
    "# Visualization\n",
    "import matplotlib.pyplot as plt\n",
    "%matplotlib inline\n",
    "plt.style.use('seaborn')"
   ]
  },
  {
   "cell_type": "markdown",
   "metadata": {},
   "source": [
    "## Read in Data"
   ]
  },
  {
   "cell_type": "code",
   "execution_count": 3,
   "metadata": {
    "collapsed": false
   },
   "outputs": [
    {
     "name": "stdout",
     "output_type": "stream",
     "text": [
      "Shape of DataFrame (288456, 5)\n"
     ]
    },
    {
     "data": {
      "text/html": [
       "<div>\n",
       "<table border=\"1\" class=\"dataframe\">\n",
       "  <thead>\n",
       "    <tr style=\"text-align: right;\">\n",
       "      <th></th>\n",
       "      <th>PAGE</th>\n",
       "      <th>URL</th>\n",
       "      <th>COUNT</th>\n",
       "      <th>AMOUNT</th>\n",
       "      <th>INGREDIENT</th>\n",
       "    </tr>\n",
       "  </thead>\n",
       "  <tbody>\n",
       "    <tr>\n",
       "      <th>0</th>\n",
       "      <td>1</td>\n",
       "      <td>https://www.bigoven.com/recipe/chicken-breasts...</td>\n",
       "      <td>8</td>\n",
       "      <td>2 tablespoons</td>\n",
       "      <td>canola oil</td>\n",
       "    </tr>\n",
       "    <tr>\n",
       "      <th>1</th>\n",
       "      <td>1</td>\n",
       "      <td>https://www.bigoven.com/recipe/chicken-breasts...</td>\n",
       "      <td>8</td>\n",
       "      <td>1/2 large</td>\n",
       "      <td>onion</td>\n",
       "    </tr>\n",
       "    <tr>\n",
       "      <th>2</th>\n",
       "      <td>1</td>\n",
       "      <td>https://www.bigoven.com/recipe/chicken-breasts...</td>\n",
       "      <td>8</td>\n",
       "      <td>6</td>\n",
       "      <td>pineapple</td>\n",
       "    </tr>\n",
       "    <tr>\n",
       "      <th>3</th>\n",
       "      <td>1</td>\n",
       "      <td>https://www.bigoven.com/recipe/chicken-breasts...</td>\n",
       "      <td>8</td>\n",
       "      <td></td>\n",
       "      <td>pepper</td>\n",
       "    </tr>\n",
       "    <tr>\n",
       "      <th>4</th>\n",
       "      <td>1</td>\n",
       "      <td>https://www.bigoven.com/recipe/chicken-breasts...</td>\n",
       "      <td>8</td>\n",
       "      <td>1 1/2 cup</td>\n",
       "      <td>tomatillo</td>\n",
       "    </tr>\n",
       "  </tbody>\n",
       "</table>\n",
       "</div>"
      ],
      "text/plain": [
       "   PAGE                                                URL  COUNT  \\\n",
       "0     1  https://www.bigoven.com/recipe/chicken-breasts...      8   \n",
       "1     1  https://www.bigoven.com/recipe/chicken-breasts...      8   \n",
       "2     1  https://www.bigoven.com/recipe/chicken-breasts...      8   \n",
       "3     1  https://www.bigoven.com/recipe/chicken-breasts...      8   \n",
       "4     1  https://www.bigoven.com/recipe/chicken-breasts...      8   \n",
       "\n",
       "          AMOUNT  INGREDIENT  \n",
       "0  2 tablespoons  canola oil  \n",
       "1      1/2 large       onion  \n",
       "2             6    pineapple  \n",
       "3                     pepper  \n",
       "4      1 1/2 cup   tomatillo  "
      ]
     },
     "execution_count": 3,
     "metadata": {},
     "output_type": "execute_result"
    }
   ],
   "source": [
    "# Read in the data\n",
    "df = pd.read_csv('unzipped_data/grill-and-bbq.csv', sep = '|')\n",
    "print(\"Shape of DataFrame\", df.shape)\n",
    "df.head()"
   ]
  },
  {
   "cell_type": "markdown",
   "metadata": {},
   "source": [
    "## Clean Data: General"
   ]
  },
  {
   "cell_type": "markdown",
   "metadata": {},
   "source": [
    "### Drop metadata\n",
    "\n",
    "'PAGE' and 'COUNT' are not needed for the analysis."
   ]
  },
  {
   "cell_type": "code",
   "execution_count": 4,
   "metadata": {
    "collapsed": false
   },
   "outputs": [
    {
     "data": {
      "text/html": [
       "<div>\n",
       "<table border=\"1\" class=\"dataframe\">\n",
       "  <thead>\n",
       "    <tr style=\"text-align: right;\">\n",
       "      <th></th>\n",
       "      <th>URL</th>\n",
       "      <th>AMOUNT</th>\n",
       "      <th>INGREDIENT</th>\n",
       "    </tr>\n",
       "  </thead>\n",
       "  <tbody>\n",
       "    <tr>\n",
       "      <th>0</th>\n",
       "      <td>https://www.bigoven.com/recipe/chicken-breasts...</td>\n",
       "      <td>2 tablespoons</td>\n",
       "      <td>canola oil</td>\n",
       "    </tr>\n",
       "    <tr>\n",
       "      <th>1</th>\n",
       "      <td>https://www.bigoven.com/recipe/chicken-breasts...</td>\n",
       "      <td>1/2 large</td>\n",
       "      <td>onion</td>\n",
       "    </tr>\n",
       "    <tr>\n",
       "      <th>2</th>\n",
       "      <td>https://www.bigoven.com/recipe/chicken-breasts...</td>\n",
       "      <td>6</td>\n",
       "      <td>pineapple</td>\n",
       "    </tr>\n",
       "    <tr>\n",
       "      <th>3</th>\n",
       "      <td>https://www.bigoven.com/recipe/chicken-breasts...</td>\n",
       "      <td></td>\n",
       "      <td>pepper</td>\n",
       "    </tr>\n",
       "    <tr>\n",
       "      <th>4</th>\n",
       "      <td>https://www.bigoven.com/recipe/chicken-breasts...</td>\n",
       "      <td>1 1/2 cup</td>\n",
       "      <td>tomatillo</td>\n",
       "    </tr>\n",
       "  </tbody>\n",
       "</table>\n",
       "</div>"
      ],
      "text/plain": [
       "                                                 URL         AMOUNT  \\\n",
       "0  https://www.bigoven.com/recipe/chicken-breasts...  2 tablespoons   \n",
       "1  https://www.bigoven.com/recipe/chicken-breasts...      1/2 large   \n",
       "2  https://www.bigoven.com/recipe/chicken-breasts...             6    \n",
       "3  https://www.bigoven.com/recipe/chicken-breasts...                  \n",
       "4  https://www.bigoven.com/recipe/chicken-breasts...      1 1/2 cup   \n",
       "\n",
       "   INGREDIENT  \n",
       "0  canola oil  \n",
       "1       onion  \n",
       "2   pineapple  \n",
       "3      pepper  \n",
       "4   tomatillo  "
      ]
     },
     "execution_count": 4,
     "metadata": {},
     "output_type": "execute_result"
    }
   ],
   "source": [
    "df.drop(['PAGE', 'COUNT'], axis = 1, inplace = True)\n",
    "df.head()"
   ]
  },
  {
   "cell_type": "markdown",
   "metadata": {},
   "source": [
    "### Fix error in header"
   ]
  },
  {
   "cell_type": "markdown",
   "metadata": {},
   "source": [
    "### Remove duplicates"
   ]
  },
  {
   "cell_type": "code",
   "execution_count": 5,
   "metadata": {
    "collapsed": false
   },
   "outputs": [
    {
     "name": "stdout",
     "output_type": "stream",
     "text": [
      "shape of DataFrame before de-dup: (288456, 3)\n",
      "Number of duplicates: 276769\n"
     ]
    }
   ],
   "source": [
    "print(\"shape of DataFrame before de-dup:\", df.shape)\n",
    "print(\"Number of duplicates:\",sum(df.duplicated()))"
   ]
  },
  {
   "cell_type": "code",
   "execution_count": 6,
   "metadata": {
    "collapsed": false
   },
   "outputs": [
    {
     "name": "stdout",
     "output_type": "stream",
     "text": [
      "shape of DataFrame after de-dup: (11687, 3)\n"
     ]
    }
   ],
   "source": [
    "# Remove duplicates\n",
    "df = df.drop_duplicates()\n",
    "\n",
    "print(\"shape of DataFrame after de-dup:\", df.shape)"
   ]
  },
  {
   "cell_type": "markdown",
   "metadata": {},
   "source": [
    "### Make all in lower case"
   ]
  },
  {
   "cell_type": "code",
   "execution_count": 7,
   "metadata": {
    "collapsed": true
   },
   "outputs": [],
   "source": [
    "for item in ['AMOUNT', 'INGREDIENT']: \n",
    "    df[item] = df[item].apply(lambda x: x.lower().strip())"
   ]
  },
  {
   "cell_type": "markdown",
   "metadata": {},
   "source": [
    "## Look at 'URL' Column"
   ]
  },
  {
   "cell_type": "markdown",
   "metadata": {},
   "source": [
    "### Create a column with dish id"
   ]
  },
  {
   "cell_type": "code",
   "execution_count": 8,
   "metadata": {
    "collapsed": true
   },
   "outputs": [],
   "source": [
    "# Write a function to get the dish id from URL\n",
    "def get_dish_id(url): \n",
    "    dish_id = re.findall('\\S*/([0-9]+)$', url)[0]\n",
    "    return dish_id"
   ]
  },
  {
   "cell_type": "code",
   "execution_count": 9,
   "metadata": {
    "collapsed": false
   },
   "outputs": [
    {
     "data": {
      "text/html": [
       "<div>\n",
       "<table border=\"1\" class=\"dataframe\">\n",
       "  <thead>\n",
       "    <tr style=\"text-align: right;\">\n",
       "      <th></th>\n",
       "      <th>URL</th>\n",
       "      <th>AMOUNT</th>\n",
       "      <th>INGREDIENT</th>\n",
       "      <th>dish_id</th>\n",
       "    </tr>\n",
       "  </thead>\n",
       "  <tbody>\n",
       "    <tr>\n",
       "      <th>0</th>\n",
       "      <td>https://www.bigoven.com/recipe/chicken-breasts...</td>\n",
       "      <td>2 tablespoons</td>\n",
       "      <td>canola oil</td>\n",
       "      <td>561575</td>\n",
       "    </tr>\n",
       "    <tr>\n",
       "      <th>1</th>\n",
       "      <td>https://www.bigoven.com/recipe/chicken-breasts...</td>\n",
       "      <td>1/2 large</td>\n",
       "      <td>onion</td>\n",
       "      <td>561575</td>\n",
       "    </tr>\n",
       "    <tr>\n",
       "      <th>2</th>\n",
       "      <td>https://www.bigoven.com/recipe/chicken-breasts...</td>\n",
       "      <td>6</td>\n",
       "      <td>pineapple</td>\n",
       "      <td>561575</td>\n",
       "    </tr>\n",
       "    <tr>\n",
       "      <th>3</th>\n",
       "      <td>https://www.bigoven.com/recipe/chicken-breasts...</td>\n",
       "      <td></td>\n",
       "      <td>pepper</td>\n",
       "      <td>561575</td>\n",
       "    </tr>\n",
       "    <tr>\n",
       "      <th>4</th>\n",
       "      <td>https://www.bigoven.com/recipe/chicken-breasts...</td>\n",
       "      <td>1 1/2 cup</td>\n",
       "      <td>tomatillo</td>\n",
       "      <td>561575</td>\n",
       "    </tr>\n",
       "  </tbody>\n",
       "</table>\n",
       "</div>"
      ],
      "text/plain": [
       "                                                 URL         AMOUNT  \\\n",
       "0  https://www.bigoven.com/recipe/chicken-breasts...  2 tablespoons   \n",
       "1  https://www.bigoven.com/recipe/chicken-breasts...      1/2 large   \n",
       "2  https://www.bigoven.com/recipe/chicken-breasts...              6   \n",
       "3  https://www.bigoven.com/recipe/chicken-breasts...                  \n",
       "4  https://www.bigoven.com/recipe/chicken-breasts...      1 1/2 cup   \n",
       "\n",
       "   INGREDIENT dish_id  \n",
       "0  canola oil  561575  \n",
       "1       onion  561575  \n",
       "2   pineapple  561575  \n",
       "3      pepper  561575  \n",
       "4   tomatillo  561575  "
      ]
     },
     "execution_count": 9,
     "metadata": {},
     "output_type": "execute_result"
    }
   ],
   "source": [
    "# apply the function to the DataFrame\n",
    "df['dish_id'] = df['URL'].apply(get_dish_id)\n",
    "df.head()"
   ]
  },
  {
   "cell_type": "markdown",
   "metadata": {},
   "source": [
    "### Create a column with dish name"
   ]
  },
  {
   "cell_type": "code",
   "execution_count": 10,
   "metadata": {
    "collapsed": false
   },
   "outputs": [],
   "source": [
    "# Write a function to get the dish name from URL\n",
    "def get_dish_name(url): \n",
    "    dish_name = re.findall('\\S*recipe/(\\S*)/.*', url)[0]\n",
    "    dish_name = re.sub('-', ' ', dish_name)\n",
    "    return dish_name"
   ]
  },
  {
   "cell_type": "code",
   "execution_count": 11,
   "metadata": {
    "collapsed": false
   },
   "outputs": [
    {
     "data": {
      "text/html": [
       "<div>\n",
       "<table border=\"1\" class=\"dataframe\">\n",
       "  <thead>\n",
       "    <tr style=\"text-align: right;\">\n",
       "      <th></th>\n",
       "      <th>URL</th>\n",
       "      <th>AMOUNT</th>\n",
       "      <th>INGREDIENT</th>\n",
       "      <th>dish_id</th>\n",
       "      <th>dish_name</th>\n",
       "    </tr>\n",
       "  </thead>\n",
       "  <tbody>\n",
       "    <tr>\n",
       "      <th>0</th>\n",
       "      <td>https://www.bigoven.com/recipe/chicken-breasts...</td>\n",
       "      <td>2 tablespoons</td>\n",
       "      <td>canola oil</td>\n",
       "      <td>561575</td>\n",
       "      <td>chicken breasts with grilled pineapple and tom...</td>\n",
       "    </tr>\n",
       "    <tr>\n",
       "      <th>1</th>\n",
       "      <td>https://www.bigoven.com/recipe/chicken-breasts...</td>\n",
       "      <td>1/2 large</td>\n",
       "      <td>onion</td>\n",
       "      <td>561575</td>\n",
       "      <td>chicken breasts with grilled pineapple and tom...</td>\n",
       "    </tr>\n",
       "    <tr>\n",
       "      <th>2</th>\n",
       "      <td>https://www.bigoven.com/recipe/chicken-breasts...</td>\n",
       "      <td>6</td>\n",
       "      <td>pineapple</td>\n",
       "      <td>561575</td>\n",
       "      <td>chicken breasts with grilled pineapple and tom...</td>\n",
       "    </tr>\n",
       "    <tr>\n",
       "      <th>3</th>\n",
       "      <td>https://www.bigoven.com/recipe/chicken-breasts...</td>\n",
       "      <td></td>\n",
       "      <td>pepper</td>\n",
       "      <td>561575</td>\n",
       "      <td>chicken breasts with grilled pineapple and tom...</td>\n",
       "    </tr>\n",
       "    <tr>\n",
       "      <th>4</th>\n",
       "      <td>https://www.bigoven.com/recipe/chicken-breasts...</td>\n",
       "      <td>1 1/2 cup</td>\n",
       "      <td>tomatillo</td>\n",
       "      <td>561575</td>\n",
       "      <td>chicken breasts with grilled pineapple and tom...</td>\n",
       "    </tr>\n",
       "  </tbody>\n",
       "</table>\n",
       "</div>"
      ],
      "text/plain": [
       "                                                 URL         AMOUNT  \\\n",
       "0  https://www.bigoven.com/recipe/chicken-breasts...  2 tablespoons   \n",
       "1  https://www.bigoven.com/recipe/chicken-breasts...      1/2 large   \n",
       "2  https://www.bigoven.com/recipe/chicken-breasts...              6   \n",
       "3  https://www.bigoven.com/recipe/chicken-breasts...                  \n",
       "4  https://www.bigoven.com/recipe/chicken-breasts...      1 1/2 cup   \n",
       "\n",
       "   INGREDIENT dish_id                                          dish_name  \n",
       "0  canola oil  561575  chicken breasts with grilled pineapple and tom...  \n",
       "1       onion  561575  chicken breasts with grilled pineapple and tom...  \n",
       "2   pineapple  561575  chicken breasts with grilled pineapple and tom...  \n",
       "3      pepper  561575  chicken breasts with grilled pineapple and tom...  \n",
       "4   tomatillo  561575  chicken breasts with grilled pineapple and tom...  "
      ]
     },
     "execution_count": 11,
     "metadata": {},
     "output_type": "execute_result"
    }
   ],
   "source": [
    "df['dish_name'] = df['URL'].apply(get_dish_name)\n",
    "df.head()"
   ]
  },
  {
   "cell_type": "code",
   "execution_count": 12,
   "metadata": {
    "collapsed": false
   },
   "outputs": [
    {
     "data": {
      "text/plain": [
       "korean bulgogi bbq beef tacos                                                48\n",
       "grilled pork tenderloin                                                      43\n",
       "grilled steak tacos with cilantro chimichurri sauce                          38\n",
       "smokehouse pulled pork with memphis style barbecue sauce and classic slaw    34\n",
       "grilled steak salad caesar style                                             34\n",
       "Name: dish_name, dtype: int64"
      ]
     },
     "execution_count": 12,
     "metadata": {},
     "output_type": "execute_result"
    }
   ],
   "source": [
    "# Check top 5 dishes\n",
    "df['dish_name'].value_counts()[:5]"
   ]
  },
  {
   "cell_type": "markdown",
   "metadata": {},
   "source": [
    "## Clean Columns"
   ]
  },
  {
   "cell_type": "code",
   "execution_count": 13,
   "metadata": {
    "collapsed": false
   },
   "outputs": [
    {
     "data": {
      "text/html": [
       "<div>\n",
       "<table border=\"1\" class=\"dataframe\">\n",
       "  <thead>\n",
       "    <tr style=\"text-align: right;\">\n",
       "      <th></th>\n",
       "      <th>AMOUNT</th>\n",
       "      <th>INGREDIENT</th>\n",
       "      <th>dish_id</th>\n",
       "      <th>dish_name</th>\n",
       "    </tr>\n",
       "  </thead>\n",
       "  <tbody>\n",
       "    <tr>\n",
       "      <th>0</th>\n",
       "      <td>2 tablespoons</td>\n",
       "      <td>canola oil</td>\n",
       "      <td>561575</td>\n",
       "      <td>chicken breasts with grilled pineapple and tom...</td>\n",
       "    </tr>\n",
       "    <tr>\n",
       "      <th>1</th>\n",
       "      <td>1/2 large</td>\n",
       "      <td>onion</td>\n",
       "      <td>561575</td>\n",
       "      <td>chicken breasts with grilled pineapple and tom...</td>\n",
       "    </tr>\n",
       "    <tr>\n",
       "      <th>2</th>\n",
       "      <td>6</td>\n",
       "      <td>pineapple</td>\n",
       "      <td>561575</td>\n",
       "      <td>chicken breasts with grilled pineapple and tom...</td>\n",
       "    </tr>\n",
       "    <tr>\n",
       "      <th>3</th>\n",
       "      <td></td>\n",
       "      <td>pepper</td>\n",
       "      <td>561575</td>\n",
       "      <td>chicken breasts with grilled pineapple and tom...</td>\n",
       "    </tr>\n",
       "    <tr>\n",
       "      <th>4</th>\n",
       "      <td>1 1/2 cup</td>\n",
       "      <td>tomatillo</td>\n",
       "      <td>561575</td>\n",
       "      <td>chicken breasts with grilled pineapple and tom...</td>\n",
       "    </tr>\n",
       "  </tbody>\n",
       "</table>\n",
       "</div>"
      ],
      "text/plain": [
       "          AMOUNT  INGREDIENT dish_id  \\\n",
       "0  2 tablespoons  canola oil  561575   \n",
       "1      1/2 large       onion  561575   \n",
       "2              6   pineapple  561575   \n",
       "3                     pepper  561575   \n",
       "4      1 1/2 cup   tomatillo  561575   \n",
       "\n",
       "                                           dish_name  \n",
       "0  chicken breasts with grilled pineapple and tom...  \n",
       "1  chicken breasts with grilled pineapple and tom...  \n",
       "2  chicken breasts with grilled pineapple and tom...  \n",
       "3  chicken breasts with grilled pineapple and tom...  \n",
       "4  chicken breasts with grilled pineapple and tom...  "
      ]
     },
     "execution_count": 13,
     "metadata": {},
     "output_type": "execute_result"
    }
   ],
   "source": [
    "# since we got all information, remove URL column\n",
    "df.drop('URL', axis = 1, inplace = True)\n",
    "df.head()"
   ]
  },
  {
   "cell_type": "markdown",
   "metadata": {},
   "source": [
    "### Rearrange columns"
   ]
  },
  {
   "cell_type": "code",
   "execution_count": 14,
   "metadata": {
    "collapsed": false
   },
   "outputs": [
    {
     "data": {
      "text/plain": [
       "Index(['AMOUNT', 'INGREDIENT', 'dish_id', 'dish_name'], dtype='object')"
      ]
     },
     "execution_count": 14,
     "metadata": {},
     "output_type": "execute_result"
    }
   ],
   "source": [
    "# check all columns\n",
    "df.columns"
   ]
  },
  {
   "cell_type": "code",
   "execution_count": 15,
   "metadata": {
    "collapsed": false
   },
   "outputs": [
    {
     "data": {
      "text/html": [
       "<div>\n",
       "<table border=\"1\" class=\"dataframe\">\n",
       "  <thead>\n",
       "    <tr style=\"text-align: right;\">\n",
       "      <th></th>\n",
       "      <th>dish_id</th>\n",
       "      <th>dish_name</th>\n",
       "      <th>INGREDIENT</th>\n",
       "      <th>AMOUNT</th>\n",
       "    </tr>\n",
       "  </thead>\n",
       "  <tbody>\n",
       "    <tr>\n",
       "      <th>0</th>\n",
       "      <td>561575</td>\n",
       "      <td>chicken breasts with grilled pineapple and tom...</td>\n",
       "      <td>canola oil</td>\n",
       "      <td>2 tablespoons</td>\n",
       "    </tr>\n",
       "    <tr>\n",
       "      <th>1</th>\n",
       "      <td>561575</td>\n",
       "      <td>chicken breasts with grilled pineapple and tom...</td>\n",
       "      <td>onion</td>\n",
       "      <td>1/2 large</td>\n",
       "    </tr>\n",
       "    <tr>\n",
       "      <th>2</th>\n",
       "      <td>561575</td>\n",
       "      <td>chicken breasts with grilled pineapple and tom...</td>\n",
       "      <td>pineapple</td>\n",
       "      <td>6</td>\n",
       "    </tr>\n",
       "    <tr>\n",
       "      <th>3</th>\n",
       "      <td>561575</td>\n",
       "      <td>chicken breasts with grilled pineapple and tom...</td>\n",
       "      <td>pepper</td>\n",
       "      <td></td>\n",
       "    </tr>\n",
       "    <tr>\n",
       "      <th>4</th>\n",
       "      <td>561575</td>\n",
       "      <td>chicken breasts with grilled pineapple and tom...</td>\n",
       "      <td>tomatillo</td>\n",
       "      <td>1 1/2 cup</td>\n",
       "    </tr>\n",
       "  </tbody>\n",
       "</table>\n",
       "</div>"
      ],
      "text/plain": [
       "  dish_id                                          dish_name  INGREDIENT  \\\n",
       "0  561575  chicken breasts with grilled pineapple and tom...  canola oil   \n",
       "1  561575  chicken breasts with grilled pineapple and tom...       onion   \n",
       "2  561575  chicken breasts with grilled pineapple and tom...   pineapple   \n",
       "3  561575  chicken breasts with grilled pineapple and tom...      pepper   \n",
       "4  561575  chicken breasts with grilled pineapple and tom...   tomatillo   \n",
       "\n",
       "          AMOUNT  \n",
       "0  2 tablespoons  \n",
       "1      1/2 large  \n",
       "2              6  \n",
       "3                 \n",
       "4      1 1/2 cup  "
      ]
     },
     "execution_count": 15,
     "metadata": {},
     "output_type": "execute_result"
    }
   ],
   "source": [
    "# rearrange columns\n",
    "df = df[['dish_id', 'dish_name', 'INGREDIENT', 'AMOUNT']]\n",
    "df.head()"
   ]
  },
  {
   "cell_type": "markdown",
   "metadata": {},
   "source": [
    "## Inspect all records for 'grilled steak tacos with cilantro chimichurri sauce' to figure out the way to clean further"
   ]
  },
  {
   "cell_type": "code",
   "execution_count": 16,
   "metadata": {
    "collapsed": true
   },
   "outputs": [],
   "source": [
    "grilled_steak_tacos = df[df['dish_name'] == 'grilled steak tacos with cilantro chimichurri sauce']"
   ]
  },
  {
   "cell_type": "code",
   "execution_count": 17,
   "metadata": {
    "collapsed": false
   },
   "outputs": [
    {
     "data": {
      "text/html": [
       "<div>\n",
       "<table border=\"1\" class=\"dataframe\">\n",
       "  <thead>\n",
       "    <tr style=\"text-align: right;\">\n",
       "      <th></th>\n",
       "      <th>dish_id</th>\n",
       "      <th>dish_name</th>\n",
       "      <th>INGREDIENT</th>\n",
       "      <th>AMOUNT</th>\n",
       "    </tr>\n",
       "  </thead>\n",
       "  <tbody>\n",
       "    <tr>\n",
       "      <th>120202</th>\n",
       "      <td>1193837</td>\n",
       "      <td>grilled steak tacos with cilantro chimichurri ...</td>\n",
       "      <td>marinade</td>\n",
       "      <td></td>\n",
       "    </tr>\n",
       "    <tr>\n",
       "      <th>120203</th>\n",
       "      <td>1193837</td>\n",
       "      <td>grilled steak tacos with cilantro chimichurri ...</td>\n",
       "      <td>steak</td>\n",
       "      <td>2 lbs</td>\n",
       "    </tr>\n",
       "    <tr>\n",
       "      <th>120204</th>\n",
       "      <td>1193837</td>\n",
       "      <td>grilled steak tacos with cilantro chimichurri ...</td>\n",
       "      <td>onion</td>\n",
       "      <td>1 sliced</td>\n",
       "    </tr>\n",
       "    <tr>\n",
       "      <th>120205</th>\n",
       "      <td>1193837</td>\n",
       "      <td>grilled steak tacos with cilantro chimichurri ...</td>\n",
       "      <td>orange</td>\n",
       "      <td></td>\n",
       "    </tr>\n",
       "    <tr>\n",
       "      <th>120206</th>\n",
       "      <td>1193837</td>\n",
       "      <td>grilled steak tacos with cilantro chimichurri ...</td>\n",
       "      <td>lime</td>\n",
       "      <td></td>\n",
       "    </tr>\n",
       "    <tr>\n",
       "      <th>120207</th>\n",
       "      <td>1193837</td>\n",
       "      <td>grilled steak tacos with cilantro chimichurri ...</td>\n",
       "      <td>soy sauce</td>\n",
       "      <td>1/3</td>\n",
       "    </tr>\n",
       "    <tr>\n",
       "      <th>120208</th>\n",
       "      <td>1193837</td>\n",
       "      <td>grilled steak tacos with cilantro chimichurri ...</td>\n",
       "      <td>olive oil</td>\n",
       "      <td>1/3</td>\n",
       "    </tr>\n",
       "    <tr>\n",
       "      <th>120209</th>\n",
       "      <td>1193837</td>\n",
       "      <td>grilled steak tacos with cilantro chimichurri ...</td>\n",
       "      <td>sugar</td>\n",
       "      <td>1/2 tsp</td>\n",
       "    </tr>\n",
       "    <tr>\n",
       "      <th>120210</th>\n",
       "      <td>1193837</td>\n",
       "      <td>grilled steak tacos with cilantro chimichurri ...</td>\n",
       "      <td>garlic</td>\n",
       "      <td>4 smashed,</td>\n",
       "    </tr>\n",
       "    <tr>\n",
       "      <th>120211</th>\n",
       "      <td>1193837</td>\n",
       "      <td>grilled steak tacos with cilantro chimichurri ...</td>\n",
       "      <td>cilantro</td>\n",
       "      <td>1/2 c</td>\n",
       "    </tr>\n",
       "    <tr>\n",
       "      <th>120212</th>\n",
       "      <td>1193837</td>\n",
       "      <td>grilled steak tacos with cilantro chimichurri ...</td>\n",
       "      <td>onion</td>\n",
       "      <td></td>\n",
       "    </tr>\n",
       "    <tr>\n",
       "      <th>120213</th>\n",
       "      <td>1193837</td>\n",
       "      <td>grilled steak tacos with cilantro chimichurri ...</td>\n",
       "      <td>cumin</td>\n",
       "      <td></td>\n",
       "    </tr>\n",
       "    <tr>\n",
       "      <th>120214</th>\n",
       "      <td>1193837</td>\n",
       "      <td>grilled steak tacos with cilantro chimichurri ...</td>\n",
       "      <td>cilantro</td>\n",
       "      <td>---</td>\n",
       "    </tr>\n",
       "    <tr>\n",
       "      <th>120215</th>\n",
       "      <td>1193837</td>\n",
       "      <td>grilled steak tacos with cilantro chimichurri ...</td>\n",
       "      <td>cilantro</td>\n",
       "      <td></td>\n",
       "    </tr>\n",
       "    <tr>\n",
       "      <th>120216</th>\n",
       "      <td>1193837</td>\n",
       "      <td>grilled steak tacos with cilantro chimichurri ...</td>\n",
       "      <td>italian parsley</td>\n",
       "      <td>1 bunch</td>\n",
       "    </tr>\n",
       "    <tr>\n",
       "      <th>120217</th>\n",
       "      <td>1193837</td>\n",
       "      <td>grilled steak tacos with cilantro chimichurri ...</td>\n",
       "      <td>lime juice</td>\n",
       "      <td>1 bunch</td>\n",
       "    </tr>\n",
       "    <tr>\n",
       "      <th>120218</th>\n",
       "      <td>1193837</td>\n",
       "      <td>grilled steak tacos with cilantro chimichurri ...</td>\n",
       "      <td>olive oil</td>\n",
       "      <td>1/4 c</td>\n",
       "    </tr>\n",
       "    <tr>\n",
       "      <th>120219</th>\n",
       "      <td>1193837</td>\n",
       "      <td>grilled steak tacos with cilantro chimichurri ...</td>\n",
       "      <td>onion</td>\n",
       "      <td>1/2 c</td>\n",
       "    </tr>\n",
       "    <tr>\n",
       "      <th>120220</th>\n",
       "      <td>1193837</td>\n",
       "      <td>grilled steak tacos with cilantro chimichurri ...</td>\n",
       "      <td>garlic</td>\n",
       "      <td>1/4 c</td>\n",
       "    </tr>\n",
       "    <tr>\n",
       "      <th>120221</th>\n",
       "      <td>1193837</td>\n",
       "      <td>grilled steak tacos with cilantro chimichurri ...</td>\n",
       "      <td>cumin</td>\n",
       "      <td>2</td>\n",
       "    </tr>\n",
       "    <tr>\n",
       "      <th>120222</th>\n",
       "      <td>1193837</td>\n",
       "      <td>grilled steak tacos with cilantro chimichurri ...</td>\n",
       "      <td>coriander</td>\n",
       "      <td></td>\n",
       "    </tr>\n",
       "    <tr>\n",
       "      <th>120223</th>\n",
       "      <td>1193837</td>\n",
       "      <td>grilled steak tacos with cilantro chimichurri ...</td>\n",
       "      <td>kosher</td>\n",
       "      <td></td>\n",
       "    </tr>\n",
       "    <tr>\n",
       "      <th>120224</th>\n",
       "      <td>1193837</td>\n",
       "      <td>grilled steak tacos with cilantro chimichurri ...</td>\n",
       "      <td>pepper</td>\n",
       "      <td></td>\n",
       "    </tr>\n",
       "    <tr>\n",
       "      <th>120225</th>\n",
       "      <td>1193837</td>\n",
       "      <td>grilled steak tacos with cilantro chimichurri ...</td>\n",
       "      <td>tomatoes</td>\n",
       "      <td></td>\n",
       "    </tr>\n",
       "    <tr>\n",
       "      <th>120226</th>\n",
       "      <td>1193837</td>\n",
       "      <td>grilled steak tacos with cilantro chimichurri ...</td>\n",
       "      <td>red onion</td>\n",
       "      <td>---</td>\n",
       "    </tr>\n",
       "    <tr>\n",
       "      <th>120228</th>\n",
       "      <td>1193837</td>\n",
       "      <td>grilled steak tacos with cilantro chimichurri ...</td>\n",
       "      <td>chili</td>\n",
       "      <td>4 vine-ripe</td>\n",
       "    </tr>\n",
       "    <tr>\n",
       "      <th>120229</th>\n",
       "      <td>1193837</td>\n",
       "      <td>grilled steak tacos with cilantro chimichurri ...</td>\n",
       "      <td>cilantro</td>\n",
       "      <td>1/2 medium</td>\n",
       "    </tr>\n",
       "    <tr>\n",
       "      <th>120230</th>\n",
       "      <td>1193837</td>\n",
       "      <td>grilled steak tacos with cilantro chimichurri ...</td>\n",
       "      <td>garlic</td>\n",
       "      <td>2 green</td>\n",
       "    </tr>\n",
       "    <tr>\n",
       "      <th>120231</th>\n",
       "      <td>1193837</td>\n",
       "      <td>grilled steak tacos with cilantro chimichurri ...</td>\n",
       "      <td>olive oil</td>\n",
       "      <td>1 serrano</td>\n",
       "    </tr>\n",
       "    <tr>\n",
       "      <th>120232</th>\n",
       "      <td>1193837</td>\n",
       "      <td>grilled steak tacos with cilantro chimichurri ...</td>\n",
       "      <td>kosher salt</td>\n",
       "      <td>1 handful</td>\n",
       "    </tr>\n",
       "    <tr>\n",
       "      <th>120233</th>\n",
       "      <td>1193837</td>\n",
       "      <td>grilled steak tacos with cilantro chimichurri ...</td>\n",
       "      <td>radish</td>\n",
       "      <td>3</td>\n",
       "    </tr>\n",
       "    <tr>\n",
       "      <th>120234</th>\n",
       "      <td>1193837</td>\n",
       "      <td>grilled steak tacos with cilantro chimichurri ...</td>\n",
       "      <td>vinegar</td>\n",
       "      <td>1 1/2 limes,</td>\n",
       "    </tr>\n",
       "    <tr>\n",
       "      <th>120235</th>\n",
       "      <td>1193837</td>\n",
       "      <td>grilled steak tacos with cilantro chimichurri ...</td>\n",
       "      <td>kosher salt</td>\n",
       "      <td>1/4 cup</td>\n",
       "    </tr>\n",
       "    <tr>\n",
       "      <th>120236</th>\n",
       "      <td>1193837</td>\n",
       "      <td>grilled steak tacos with cilantro chimichurri ...</td>\n",
       "      <td>sugar</td>\n",
       "      <td>1 teaspoon</td>\n",
       "    </tr>\n",
       "    <tr>\n",
       "      <th>120237</th>\n",
       "      <td>1193837</td>\n",
       "      <td>grilled steak tacos with cilantro chimichurri ...</td>\n",
       "      <td>peppercorn</td>\n",
       "      <td>---</td>\n",
       "    </tr>\n",
       "    <tr>\n",
       "      <th>120238</th>\n",
       "      <td>1193837</td>\n",
       "      <td>grilled steak tacos with cilantro chimichurri ...</td>\n",
       "      <td>cilantro</td>\n",
       "      <td></td>\n",
       "    </tr>\n",
       "    <tr>\n",
       "      <th>120239</th>\n",
       "      <td>1193837</td>\n",
       "      <td>grilled steak tacos with cilantro chimichurri ...</td>\n",
       "      <td>tortilla</td>\n",
       "      <td>2 c</td>\n",
       "    </tr>\n",
       "    <tr>\n",
       "      <th>120240</th>\n",
       "      <td>1193837</td>\n",
       "      <td>grilled steak tacos with cilantro chimichurri ...</td>\n",
       "      <td>lime</td>\n",
       "      <td>1 c</td>\n",
       "    </tr>\n",
       "  </tbody>\n",
       "</table>\n",
       "</div>"
      ],
      "text/plain": [
       "        dish_id                                          dish_name  \\\n",
       "120202  1193837  grilled steak tacos with cilantro chimichurri ...   \n",
       "120203  1193837  grilled steak tacos with cilantro chimichurri ...   \n",
       "120204  1193837  grilled steak tacos with cilantro chimichurri ...   \n",
       "120205  1193837  grilled steak tacos with cilantro chimichurri ...   \n",
       "120206  1193837  grilled steak tacos with cilantro chimichurri ...   \n",
       "120207  1193837  grilled steak tacos with cilantro chimichurri ...   \n",
       "120208  1193837  grilled steak tacos with cilantro chimichurri ...   \n",
       "120209  1193837  grilled steak tacos with cilantro chimichurri ...   \n",
       "120210  1193837  grilled steak tacos with cilantro chimichurri ...   \n",
       "120211  1193837  grilled steak tacos with cilantro chimichurri ...   \n",
       "120212  1193837  grilled steak tacos with cilantro chimichurri ...   \n",
       "120213  1193837  grilled steak tacos with cilantro chimichurri ...   \n",
       "120214  1193837  grilled steak tacos with cilantro chimichurri ...   \n",
       "120215  1193837  grilled steak tacos with cilantro chimichurri ...   \n",
       "120216  1193837  grilled steak tacos with cilantro chimichurri ...   \n",
       "120217  1193837  grilled steak tacos with cilantro chimichurri ...   \n",
       "120218  1193837  grilled steak tacos with cilantro chimichurri ...   \n",
       "120219  1193837  grilled steak tacos with cilantro chimichurri ...   \n",
       "120220  1193837  grilled steak tacos with cilantro chimichurri ...   \n",
       "120221  1193837  grilled steak tacos with cilantro chimichurri ...   \n",
       "120222  1193837  grilled steak tacos with cilantro chimichurri ...   \n",
       "120223  1193837  grilled steak tacos with cilantro chimichurri ...   \n",
       "120224  1193837  grilled steak tacos with cilantro chimichurri ...   \n",
       "120225  1193837  grilled steak tacos with cilantro chimichurri ...   \n",
       "120226  1193837  grilled steak tacos with cilantro chimichurri ...   \n",
       "120228  1193837  grilled steak tacos with cilantro chimichurri ...   \n",
       "120229  1193837  grilled steak tacos with cilantro chimichurri ...   \n",
       "120230  1193837  grilled steak tacos with cilantro chimichurri ...   \n",
       "120231  1193837  grilled steak tacos with cilantro chimichurri ...   \n",
       "120232  1193837  grilled steak tacos with cilantro chimichurri ...   \n",
       "120233  1193837  grilled steak tacos with cilantro chimichurri ...   \n",
       "120234  1193837  grilled steak tacos with cilantro chimichurri ...   \n",
       "120235  1193837  grilled steak tacos with cilantro chimichurri ...   \n",
       "120236  1193837  grilled steak tacos with cilantro chimichurri ...   \n",
       "120237  1193837  grilled steak tacos with cilantro chimichurri ...   \n",
       "120238  1193837  grilled steak tacos with cilantro chimichurri ...   \n",
       "120239  1193837  grilled steak tacos with cilantro chimichurri ...   \n",
       "120240  1193837  grilled steak tacos with cilantro chimichurri ...   \n",
       "\n",
       "             INGREDIENT        AMOUNT  \n",
       "120202         marinade                \n",
       "120203            steak         2 lbs  \n",
       "120204            onion      1 sliced  \n",
       "120205           orange                \n",
       "120206             lime                \n",
       "120207        soy sauce           1/3  \n",
       "120208        olive oil           1/3  \n",
       "120209            sugar       1/2 tsp  \n",
       "120210           garlic    4 smashed,  \n",
       "120211         cilantro         1/2 c  \n",
       "120212            onion                \n",
       "120213            cumin                \n",
       "120214         cilantro           ---  \n",
       "120215         cilantro                \n",
       "120216  italian parsley       1 bunch  \n",
       "120217       lime juice       1 bunch  \n",
       "120218        olive oil         1/4 c  \n",
       "120219            onion         1/2 c  \n",
       "120220           garlic         1/4 c  \n",
       "120221            cumin             2  \n",
       "120222        coriander                \n",
       "120223           kosher                \n",
       "120224           pepper                \n",
       "120225         tomatoes                \n",
       "120226        red onion           ---  \n",
       "120228            chili   4 vine-ripe  \n",
       "120229         cilantro    1/2 medium  \n",
       "120230           garlic       2 green  \n",
       "120231        olive oil     1 serrano  \n",
       "120232      kosher salt     1 handful  \n",
       "120233           radish             3  \n",
       "120234          vinegar  1 1/2 limes,  \n",
       "120235      kosher salt       1/4 cup  \n",
       "120236            sugar    1 teaspoon  \n",
       "120237       peppercorn           ---  \n",
       "120238         cilantro                \n",
       "120239         tortilla           2 c  \n",
       "120240             lime           1 c  "
      ]
     },
     "execution_count": 17,
     "metadata": {},
     "output_type": "execute_result"
    }
   ],
   "source": [
    "grilled_steak_tacos"
   ]
  },
  {
   "cell_type": "markdown",
   "metadata": {},
   "source": [
    "## Look at 'amt' Column"
   ]
  },
  {
   "cell_type": "markdown",
   "metadata": {},
   "source": [
    "### What kind of ingredients are missing amounts? "
   ]
  },
  {
   "cell_type": "code",
   "execution_count": 18,
   "metadata": {
    "collapsed": false
   },
   "outputs": [
    {
     "data": {
      "text/plain": [
       "(1287, 4)"
      ]
     },
     "execution_count": 18,
     "metadata": {},
     "output_type": "execute_result"
    }
   ],
   "source": [
    "# How many?\n",
    "missing_amt = df[df['AMOUNT'] == '']\n",
    "missing_amt.shape"
   ]
  },
  {
   "cell_type": "code",
   "execution_count": 19,
   "metadata": {
    "collapsed": false
   },
   "outputs": [
    {
     "data": {
      "text/html": [
       "<div>\n",
       "<table border=\"1\" class=\"dataframe\">\n",
       "  <thead>\n",
       "    <tr style=\"text-align: right;\">\n",
       "      <th></th>\n",
       "      <th>dish_id</th>\n",
       "      <th>dish_name</th>\n",
       "      <th>INGREDIENT</th>\n",
       "      <th>AMOUNT</th>\n",
       "    </tr>\n",
       "  </thead>\n",
       "  <tbody>\n",
       "    <tr>\n",
       "      <th>3</th>\n",
       "      <td>561575</td>\n",
       "      <td>chicken breasts with grilled pineapple and tom...</td>\n",
       "      <td>pepper</td>\n",
       "      <td></td>\n",
       "    </tr>\n",
       "    <tr>\n",
       "      <th>31</th>\n",
       "      <td>860272</td>\n",
       "      <td>grilled chicken with pineapple salsa</td>\n",
       "      <td>olive oil</td>\n",
       "      <td></td>\n",
       "    </tr>\n",
       "    <tr>\n",
       "      <th>32</th>\n",
       "      <td>860272</td>\n",
       "      <td>grilled chicken with pineapple salsa</td>\n",
       "      <td>pepper</td>\n",
       "      <td></td>\n",
       "    </tr>\n",
       "    <tr>\n",
       "      <th>33</th>\n",
       "      <td>860272</td>\n",
       "      <td>grilled chicken with pineapple salsa</td>\n",
       "      <td>salt</td>\n",
       "      <td></td>\n",
       "    </tr>\n",
       "    <tr>\n",
       "      <th>39</th>\n",
       "      <td>860272</td>\n",
       "      <td>grilled chicken with pineapple salsa</td>\n",
       "      <td>cilantro</td>\n",
       "      <td></td>\n",
       "    </tr>\n",
       "  </tbody>\n",
       "</table>\n",
       "</div>"
      ],
      "text/plain": [
       "   dish_id                                          dish_name INGREDIENT  \\\n",
       "3   561575  chicken breasts with grilled pineapple and tom...     pepper   \n",
       "31  860272               grilled chicken with pineapple salsa  olive oil   \n",
       "32  860272               grilled chicken with pineapple salsa     pepper   \n",
       "33  860272               grilled chicken with pineapple salsa       salt   \n",
       "39  860272               grilled chicken with pineapple salsa   cilantro   \n",
       "\n",
       "   AMOUNT  \n",
       "3          \n",
       "31         \n",
       "32         \n",
       "33         \n",
       "39         "
      ]
     },
     "execution_count": 19,
     "metadata": {},
     "output_type": "execute_result"
    }
   ],
   "source": [
    "# Check a few example\n",
    "missing_amt.head()"
   ]
  },
  {
   "cell_type": "code",
   "execution_count": 20,
   "metadata": {
    "collapsed": false
   },
   "outputs": [
    {
     "data": {
      "text/plain": [
       "pepper                  105\n",
       "black pepper             68\n",
       "salt                     63\n",
       "olive oil                45\n",
       "garlic                   44\n",
       "lemon                    43\n",
       "kosher salt              38\n",
       "cooking spray            31\n",
       "chicken                  26\n",
       "onion                    26\n",
       "lime                     25\n",
       "cilantro                 24\n",
       "ground pepper            23\n",
       "vegetable oil            22\n",
       "chicken breast           18\n",
       "tomatoes                 14\n",
       "sugar                    14\n",
       "brown sugar              13\n",
       "cayenne                  13\n",
       "spice                    13\n",
       "mustard                  12\n",
       "bbq                      12\n",
       "paprika                  11\n",
       "honey                    11\n",
       "worcestershire sauce     11\n",
       "marinade                 11\n",
       "sesame seeds             11\n",
       "parsley                  11\n",
       "pork                     11\n",
       "butter                   10\n",
       "                       ... \n",
       "ricotta                   1\n",
       "parmesan                  1\n",
       "tahini                    1\n",
       "celery seed               1\n",
       "radicchio                 1\n",
       "nectarine                 1\n",
       "rotini                    1\n",
       "cloves                    1\n",
       "summer squash             1\n",
       "cocoa powder              1\n",
       "maple syrup               1\n",
       "chutney                   1\n",
       "mozzarella                1\n",
       "chives                    1\n",
       "bouillon                  1\n",
       "leeks                     1\n",
       "yellow bell pepper        1\n",
       "lobster                   1\n",
       "broth                     1\n",
       "bean sprouts              1\n",
       "cornstarch                1\n",
       "white wine                1\n",
       "peanut butter             1\n",
       "cube                      1\n",
       "coconut milk              1\n",
       "italian parsley           1\n",
       "eggs                      1\n",
       "bread crumbs              1\n",
       "tea                       1\n",
       "duck                      1\n",
       "Name: INGREDIENT, dtype: int64"
      ]
     },
     "execution_count": 20,
     "metadata": {},
     "output_type": "execute_result"
    }
   ],
   "source": [
    "# Check the ingredients\n",
    "missing_amt['INGREDIENT'].value_counts()"
   ]
  },
  {
   "cell_type": "markdown",
   "metadata": {},
   "source": [
    "### Divide it by amount and unit"
   ]
  },
  {
   "cell_type": "code",
   "execution_count": 21,
   "metadata": {
    "collapsed": false
   },
   "outputs": [
    {
     "data": {
      "text/plain": [
       "(1289,)"
      ]
     },
     "execution_count": 21,
     "metadata": {},
     "output_type": "execute_result"
    }
   ],
   "source": [
    "# How many different values? \n",
    "df['AMOUNT'].value_counts().shape"
   ]
  },
  {
   "cell_type": "code",
   "execution_count": 22,
   "metadata": {
    "collapsed": false
   },
   "outputs": [],
   "source": [
    "# First strip whitespace\n",
    "df['AMOUNT'] = df['AMOUNT'].apply(lambda x: x.strip())"
   ]
  },
  {
   "cell_type": "code",
   "execution_count": 23,
   "metadata": {
    "collapsed": false
   },
   "outputs": [
    {
     "data": {
      "text/plain": [
       "(1289,)"
      ]
     },
     "execution_count": 23,
     "metadata": {},
     "output_type": "execute_result"
    }
   ],
   "source": [
    "# How many different values? \n",
    "df['AMOUNT'].value_counts().shape"
   ]
  },
  {
   "cell_type": "code",
   "execution_count": 24,
   "metadata": {
    "collapsed": false
   },
   "outputs": [
    {
     "data": {
      "text/plain": [
       "                 1287\n",
       "1 tablespoon      636\n",
       "1/4 cup           535\n",
       "2 tablespoons     497\n",
       "1 teaspoon        484\n",
       "1/2 cup           424\n",
       "1/2 teaspoon      399\n",
       "1                 370\n",
       "1 cup             292\n",
       "2                 248\n",
       "1/4 teaspoon      231\n",
       "2 teaspoons       211\n",
       "3 tablespoons     174\n",
       "4                 159\n",
       "1/3 cup           129\n",
       "2 tb              121\n",
       "1 tb              108\n",
       "1 tsp             103\n",
       "2 cups            100\n",
       "1 ts               93\n",
       "Name: AMOUNT, dtype: int64"
      ]
     },
     "execution_count": 24,
     "metadata": {},
     "output_type": "execute_result"
    }
   ],
   "source": [
    "# Check top 20 values\n",
    "df['AMOUNT'].value_counts()[:20]"
   ]
  },
  {
   "cell_type": "code",
   "execution_count": 25,
   "metadata": {
    "collapsed": true
   },
   "outputs": [],
   "source": [
    "def get_amt(amt_str):\n",
    "    \"\"\"This function takes numeric amount from the amount string\"\"\"\n",
    "    if len(amt_str) == 0:\n",
    "        return ''\n",
    "    elif len(re.findall('[^a-z]+', amt_str)) == 0: \n",
    "        return ''\n",
    "    else: \n",
    "        return re.findall('[^a-z]+', amt_str)[0].strip()"
   ]
  },
  {
   "cell_type": "code",
   "execution_count": 26,
   "metadata": {
    "collapsed": false
   },
   "outputs": [
    {
     "data": {
      "text/html": [
       "<div>\n",
       "<table border=\"1\" class=\"dataframe\">\n",
       "  <thead>\n",
       "    <tr style=\"text-align: right;\">\n",
       "      <th></th>\n",
       "      <th>dish_id</th>\n",
       "      <th>dish_name</th>\n",
       "      <th>INGREDIENT</th>\n",
       "      <th>AMOUNT</th>\n",
       "      <th>amt_num</th>\n",
       "    </tr>\n",
       "  </thead>\n",
       "  <tbody>\n",
       "    <tr>\n",
       "      <th>0</th>\n",
       "      <td>561575</td>\n",
       "      <td>chicken breasts with grilled pineapple and tom...</td>\n",
       "      <td>canola oil</td>\n",
       "      <td>2 tablespoons</td>\n",
       "      <td>2</td>\n",
       "    </tr>\n",
       "    <tr>\n",
       "      <th>1</th>\n",
       "      <td>561575</td>\n",
       "      <td>chicken breasts with grilled pineapple and tom...</td>\n",
       "      <td>onion</td>\n",
       "      <td>1/2 large</td>\n",
       "      <td>1/2</td>\n",
       "    </tr>\n",
       "    <tr>\n",
       "      <th>2</th>\n",
       "      <td>561575</td>\n",
       "      <td>chicken breasts with grilled pineapple and tom...</td>\n",
       "      <td>pineapple</td>\n",
       "      <td>6</td>\n",
       "      <td>6</td>\n",
       "    </tr>\n",
       "    <tr>\n",
       "      <th>3</th>\n",
       "      <td>561575</td>\n",
       "      <td>chicken breasts with grilled pineapple and tom...</td>\n",
       "      <td>pepper</td>\n",
       "      <td></td>\n",
       "      <td></td>\n",
       "    </tr>\n",
       "    <tr>\n",
       "      <th>4</th>\n",
       "      <td>561575</td>\n",
       "      <td>chicken breasts with grilled pineapple and tom...</td>\n",
       "      <td>tomatillo</td>\n",
       "      <td>1 1/2 cup</td>\n",
       "      <td>1 1/2</td>\n",
       "    </tr>\n",
       "  </tbody>\n",
       "</table>\n",
       "</div>"
      ],
      "text/plain": [
       "  dish_id                                          dish_name  INGREDIENT  \\\n",
       "0  561575  chicken breasts with grilled pineapple and tom...  canola oil   \n",
       "1  561575  chicken breasts with grilled pineapple and tom...       onion   \n",
       "2  561575  chicken breasts with grilled pineapple and tom...   pineapple   \n",
       "3  561575  chicken breasts with grilled pineapple and tom...      pepper   \n",
       "4  561575  chicken breasts with grilled pineapple and tom...   tomatillo   \n",
       "\n",
       "          AMOUNT amt_num  \n",
       "0  2 tablespoons       2  \n",
       "1      1/2 large     1/2  \n",
       "2              6       6  \n",
       "3                         \n",
       "4      1 1/2 cup   1 1/2  "
      ]
     },
     "execution_count": 26,
     "metadata": {},
     "output_type": "execute_result"
    }
   ],
   "source": [
    "df['amt_num'] = df['AMOUNT'].apply(get_amt)\n",
    "df.head()"
   ]
  },
  {
   "cell_type": "code",
   "execution_count": 27,
   "metadata": {
    "collapsed": true
   },
   "outputs": [],
   "source": [
    "def get_unit(amt_str):\n",
    "    \"\"\"This function takes unit from the amount string\"\"\"\n",
    "    if len(amt_str) == 0:\n",
    "        return ''\n",
    "    elif len(re.findall('[A-Za-z]+', amt_str)) == 0: \n",
    "        return ''\n",
    "    else: \n",
    "        return re.findall('[A-Za-z]+', amt_str)[0].strip()"
   ]
  },
  {
   "cell_type": "code",
   "execution_count": 28,
   "metadata": {
    "collapsed": false
   },
   "outputs": [
    {
     "data": {
      "text/html": [
       "<div>\n",
       "<table border=\"1\" class=\"dataframe\">\n",
       "  <thead>\n",
       "    <tr style=\"text-align: right;\">\n",
       "      <th></th>\n",
       "      <th>dish_id</th>\n",
       "      <th>dish_name</th>\n",
       "      <th>INGREDIENT</th>\n",
       "      <th>AMOUNT</th>\n",
       "      <th>amt_num</th>\n",
       "      <th>unit</th>\n",
       "    </tr>\n",
       "  </thead>\n",
       "  <tbody>\n",
       "    <tr>\n",
       "      <th>0</th>\n",
       "      <td>561575</td>\n",
       "      <td>chicken breasts with grilled pineapple and tom...</td>\n",
       "      <td>canola oil</td>\n",
       "      <td>2 tablespoons</td>\n",
       "      <td>2</td>\n",
       "      <td>tablespoons</td>\n",
       "    </tr>\n",
       "    <tr>\n",
       "      <th>1</th>\n",
       "      <td>561575</td>\n",
       "      <td>chicken breasts with grilled pineapple and tom...</td>\n",
       "      <td>onion</td>\n",
       "      <td>1/2 large</td>\n",
       "      <td>1/2</td>\n",
       "      <td>large</td>\n",
       "    </tr>\n",
       "    <tr>\n",
       "      <th>2</th>\n",
       "      <td>561575</td>\n",
       "      <td>chicken breasts with grilled pineapple and tom...</td>\n",
       "      <td>pineapple</td>\n",
       "      <td>6</td>\n",
       "      <td>6</td>\n",
       "      <td></td>\n",
       "    </tr>\n",
       "    <tr>\n",
       "      <th>3</th>\n",
       "      <td>561575</td>\n",
       "      <td>chicken breasts with grilled pineapple and tom...</td>\n",
       "      <td>pepper</td>\n",
       "      <td></td>\n",
       "      <td></td>\n",
       "      <td></td>\n",
       "    </tr>\n",
       "    <tr>\n",
       "      <th>4</th>\n",
       "      <td>561575</td>\n",
       "      <td>chicken breasts with grilled pineapple and tom...</td>\n",
       "      <td>tomatillo</td>\n",
       "      <td>1 1/2 cup</td>\n",
       "      <td>1 1/2</td>\n",
       "      <td>cup</td>\n",
       "    </tr>\n",
       "  </tbody>\n",
       "</table>\n",
       "</div>"
      ],
      "text/plain": [
       "  dish_id                                          dish_name  INGREDIENT  \\\n",
       "0  561575  chicken breasts with grilled pineapple and tom...  canola oil   \n",
       "1  561575  chicken breasts with grilled pineapple and tom...       onion   \n",
       "2  561575  chicken breasts with grilled pineapple and tom...   pineapple   \n",
       "3  561575  chicken breasts with grilled pineapple and tom...      pepper   \n",
       "4  561575  chicken breasts with grilled pineapple and tom...   tomatillo   \n",
       "\n",
       "          AMOUNT amt_num         unit  \n",
       "0  2 tablespoons       2  tablespoons  \n",
       "1      1/2 large     1/2        large  \n",
       "2              6       6               \n",
       "3                                      \n",
       "4      1 1/2 cup   1 1/2          cup  "
      ]
     },
     "execution_count": 28,
     "metadata": {},
     "output_type": "execute_result"
    }
   ],
   "source": [
    "df['unit'] = df['AMOUNT'].apply(get_unit)\n",
    "df.head()"
   ]
  },
  {
   "cell_type": "code",
   "execution_count": 29,
   "metadata": {
    "collapsed": true
   },
   "outputs": [
    {
     "name": "stdout",
     "output_type": "stream",
     "text": [
      "Unit: (276,)\n",
      "\n",
      "Values:\n",
      "               2479\n",
      "cup            1596\n",
      "teaspoon       1282\n",
      "tablespoons     838\n",
      "tablespoon      774\n",
      "teaspoons       387\n",
      "tb              324\n",
      "tsp             308\n",
      "ts              287\n",
      "c               279\n",
      "tbsp            275\n",
      "cups            257\n",
      "pound           179\n",
      "large           174\n",
      "pounds          166\n",
      "cloves          163\n",
      "lb              145\n",
      "oz              134\n",
      "medium          129\n",
      "small            98\n",
      "clove            79\n",
      "ounces           69\n",
      "ounce            66\n",
      "whole            61\n",
      "lbs              52\n",
      "t                46\n",
      "boneless         41\n",
      "tbs              39\n",
      "g                33\n",
      "inch             31\n",
      "               ... \n",
      "sweet             1\n",
      "bag               1\n",
      "carrots           1\n",
      "ineapple          1\n",
      "firm              1\n",
      "eggplants         1\n",
      "dashes            1\n",
      "bulbs             1\n",
      "star              1\n",
      "leaf              1\n",
      "anchovy           1\n",
      "big               1\n",
      "loaf              1\n",
      "crushed           1\n",
      "romaine           1\n",
      "loaves            1\n",
      "kilogram          1\n",
      "finely            1\n",
      "halves            1\n",
      "radishes          1\n",
      "mall              1\n",
      "thick             1\n",
      "packets           1\n",
      "mm                1\n",
      "kilo              1\n",
      "catfish           1\n",
      "plum              1\n",
      "roasting          1\n",
      "apple             1\n",
      "sprinkle          1\n",
      "Name: unit, dtype: int64\n"
     ]
    }
   ],
   "source": [
    "# unit\n",
    "print(\"Unit: {}\".format(df['unit'].value_counts().shape))\n",
    "print(\"\\nValues:\\n{}\".format(df['unit'].value_counts()))"
   ]
  },
  {
   "cell_type": "code",
   "execution_count": 30,
   "metadata": {
    "collapsed": false,
    "scrolled": true
   },
   "outputs": [
    {
     "name": "stdout",
     "output_type": "stream",
     "text": [
      "Numeric amount: (294,)\n",
      "\n",
      "Values:\n",
      "1                3141\n",
      "2                1997\n",
      "                 1303\n",
      "1/2              1264\n",
      "1/4               979\n",
      "4                 553\n",
      "3                 549\n",
      "1 1/2             304\n",
      "1/3               177\n",
      "3/4               175\n",
      "6                 171\n",
      "8                 131\n",
      "5                  85\n",
      "1/8                59\n",
      "12                 45\n",
      "16                 38\n",
      "2/3                31\n",
      "1 1/4              30\n",
      "10                 29\n",
      "2 1/2              24\n",
      "1-1/2              22\n",
      "1-2                20\n",
      "0.5                13\n",
      "1.5                13\n",
      "2-3                13\n",
      "100                12\n",
      "3 1/2              12\n",
      "3-4                10\n",
      "20                  9\n",
      "1 1/3               9\n",
      "                 ... \n",
      "1 13-               1\n",
      "1 14.5-             1\n",
      "2 (8-               1\n",
      "4 (10               1\n",
      "2 (1/2              1\n",
      "1 (15-              1\n",
      "1 3 1/2             1\n",
      "1 3                 1\n",
      "80                  1\n",
      "1         1/2       1\n",
      "16 (                1\n",
      "1 15.5-             1\n",
      "6-7                 1\n",
      "15 (10%             1\n",
      "1 (6                1\n",
      "1 (14.5             1\n",
      "1 1/2 - 2           1\n",
      "1  2 1/2            1\n",
      "6 (6-               1\n",
      "2 1&                1\n",
      "- 1/8               1\n",
      "4 10-               1\n",
      "6 (8-               1\n",
      "1 (14.5-            1\n",
      "2  8                1\n",
      "2-5                 1\n",
      "4 6                 1\n",
      "1 2&                1\n",
      "1 (10-              1\n",
      "21/2                1\n",
      "Name: amt_num, dtype: int64\n"
     ]
    }
   ],
   "source": [
    "# Numeric amount\n",
    "print(\"Numeric amount: {}\".format(df['amt_num'].value_counts().shape))\n",
    "print(\"\\nValues:\\n{}\".format(df['amt_num'].value_counts()))"
   ]
  }
 ],
 "metadata": {
  "kernelspec": {
   "display_name": "Python 3",
   "language": "python",
   "name": "python3"
  },
  "language_info": {
   "codemirror_mode": {
    "name": "ipython",
    "version": 3
   },
   "file_extension": ".py",
   "mimetype": "text/x-python",
   "name": "python",
   "nbconvert_exporter": "python",
   "pygments_lexer": "ipython3",
   "version": "3.6.0"
  }
 },
 "nbformat": 4,
 "nbformat_minor": 2
}
